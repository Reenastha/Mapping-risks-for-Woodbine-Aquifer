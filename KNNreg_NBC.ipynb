{
 "cells": [
  {
   "cell_type": "markdown",
   "id": "34830ec3",
   "metadata": {},
   "source": [
    "# import libraries"
   ]
  },
  {
   "cell_type": "code",
   "execution_count": 3,
   "id": "a777d28f",
   "metadata": {},
   "outputs": [],
   "source": [
    "import numpy as np\n",
    "import matplotlib.pyplot as plt\n",
    "import pandas as pd\n",
    "import seaborn as sns"
   ]
  },
  {
   "cell_type": "markdown",
   "id": "9714e889",
   "metadata": {},
   "source": [
    "# importing the dataset"
   ]
  },
  {
   "cell_type": "code",
   "execution_count": 4,
   "id": "50aab2db",
   "metadata": {
    "scrolled": false
   },
   "outputs": [
    {
     "name": "stdout",
     "output_type": "stream",
     "text": [
      "<class 'pandas.core.frame.DataFrame'>\n",
      "RangeIndex: 1455 entries, 0 to 1454\n",
      "Data columns (total 18 columns):\n",
      " #   Column         Non-Null Count  Dtype  \n",
      "---  ------         --------------  -----  \n",
      " 0   id             937 non-null    float64\n",
      " 1   left           937 non-null    float64\n",
      " 2   top            937 non-null    float64\n",
      " 3   right          937 non-null    float64\n",
      " 4   bottom         937 non-null    float64\n",
      " 5   _mean          937 non-null    float64\n",
      " 6   Chlorideme     937 non-null    float64\n",
      " 7   Fluorideme     937 non-null    float64\n",
      " 8   Hardnessme     937 non-null    float64\n",
      " 9   SARmean        937 non-null    float64\n",
      " 10  Sulfatemea     937 non-null    float64\n",
      " 11  TDSmean        937 non-null    float64\n",
      " 12  WellDepthm     937 non-null    float64\n",
      " 13  Joined lay     937 non-null    float64\n",
      " 14  LR_prob_Y      157 non-null    float64\n",
      " 15  NBC_prob_Y     157 non-null    float64\n",
      " 16  LR_pred_Y      157 non-null    float64\n",
      " 17  label_NBCpred  157 non-null    float64\n",
      "dtypes: float64(18)\n",
      "memory usage: 204.7 KB\n"
     ]
    }
   ],
   "source": [
    "filepath = 'C:/Users/mengj/OneDrive - lamar.edu/LectureNote2023/MLforCivilEng/TeamProject2/Grid_join_all_v4.csv'\n",
    "dataset = pd.read_csv(filepath)\n",
    "dataset.info()"
   ]
  },
  {
   "cell_type": "code",
   "execution_count": 5,
   "id": "de4a18bc",
   "metadata": {},
   "outputs": [
    {
     "name": "stdout",
     "output_type": "stream",
     "text": [
      "<class 'pandas.core.frame.DataFrame'>\n",
      "Int64Index: 937 entries, 0 to 936\n",
      "Data columns (total 18 columns):\n",
      " #   Column         Non-Null Count  Dtype  \n",
      "---  ------         --------------  -----  \n",
      " 0   id             937 non-null    float64\n",
      " 1   left           937 non-null    float64\n",
      " 2   top            937 non-null    float64\n",
      " 3   right          937 non-null    float64\n",
      " 4   bottom         937 non-null    float64\n",
      " 5   _mean          937 non-null    float64\n",
      " 6   Chlorideme     937 non-null    float64\n",
      " 7   Fluorideme     937 non-null    float64\n",
      " 8   Hardnessme     937 non-null    float64\n",
      " 9   SARmean        937 non-null    float64\n",
      " 10  Sulfatemea     937 non-null    float64\n",
      " 11  TDSmean        937 non-null    float64\n",
      " 12  WellDepthm     937 non-null    float64\n",
      " 13  Joined lay     937 non-null    float64\n",
      " 14  LR_prob_Y      157 non-null    float64\n",
      " 15  NBC_prob_Y     157 non-null    float64\n",
      " 16  LR_pred_Y      157 non-null    float64\n",
      " 17  label_NBCpred  157 non-null    float64\n",
      "dtypes: float64(18)\n",
      "memory usage: 139.1 KB\n"
     ]
    }
   ],
   "source": [
    "dataset.dropna(how='all', axis=0, inplace=True)\n",
    "dataset.info()"
   ]
  },
  {
   "cell_type": "code",
   "execution_count": 6,
   "id": "64e945f8",
   "metadata": {
    "scrolled": false
   },
   "outputs": [
    {
     "name": "stdout",
     "output_type": "stream",
     "text": [
      "<class 'pandas.core.frame.DataFrame'>\n",
      "Int64Index: 937 entries, 0 to 936\n",
      "Data columns (total 6 columns):\n",
      " #   Column      Non-Null Count  Dtype  \n",
      "---  ------      --------------  -----  \n",
      " 0   id          937 non-null    float64\n",
      " 1   left        937 non-null    float64\n",
      " 2   top         937 non-null    float64\n",
      " 3   right       937 non-null    float64\n",
      " 4   bottom      937 non-null    float64\n",
      " 5   NBC_prob_Y  157 non-null    float64\n",
      "dtypes: float64(6)\n",
      "memory usage: 51.2 KB\n"
     ]
    }
   ],
   "source": [
    "df = dataset[['id','left','top','right','bottom','NBC_prob_Y']]\n",
    "df.info()"
   ]
  },
  {
   "cell_type": "code",
   "execution_count": 8,
   "id": "fa5418b0",
   "metadata": {},
   "outputs": [
    {
     "data": {
      "text/html": [
       "<div>\n",
       "<style scoped>\n",
       "    .dataframe tbody tr th:only-of-type {\n",
       "        vertical-align: middle;\n",
       "    }\n",
       "\n",
       "    .dataframe tbody tr th {\n",
       "        vertical-align: top;\n",
       "    }\n",
       "\n",
       "    .dataframe thead th {\n",
       "        text-align: right;\n",
       "    }\n",
       "</style>\n",
       "<table border=\"1\" class=\"dataframe\">\n",
       "  <thead>\n",
       "    <tr style=\"text-align: right;\">\n",
       "      <th></th>\n",
       "      <th>id</th>\n",
       "      <th>left</th>\n",
       "      <th>top</th>\n",
       "      <th>right</th>\n",
       "      <th>bottom</th>\n",
       "      <th>NBC_prob_Y</th>\n",
       "    </tr>\n",
       "  </thead>\n",
       "  <tbody>\n",
       "    <tr>\n",
       "      <th>0</th>\n",
       "      <td>1.0</td>\n",
       "      <td>-18545.2946</td>\n",
       "      <td>1196517.033</td>\n",
       "      <td>-13717.262600</td>\n",
       "      <td>1191689.001</td>\n",
       "      <td>NaN</td>\n",
       "    </tr>\n",
       "    <tr>\n",
       "      <th>1</th>\n",
       "      <td>2.0</td>\n",
       "      <td>-18545.2946</td>\n",
       "      <td>1191689.001</td>\n",
       "      <td>-13717.262600</td>\n",
       "      <td>1186860.969</td>\n",
       "      <td>NaN</td>\n",
       "    </tr>\n",
       "    <tr>\n",
       "      <th>2</th>\n",
       "      <td>3.0</td>\n",
       "      <td>-13717.2626</td>\n",
       "      <td>1201345.065</td>\n",
       "      <td>-8889.230595</td>\n",
       "      <td>1196517.033</td>\n",
       "      <td>NaN</td>\n",
       "    </tr>\n",
       "    <tr>\n",
       "      <th>3</th>\n",
       "      <td>4.0</td>\n",
       "      <td>-13717.2626</td>\n",
       "      <td>1196517.033</td>\n",
       "      <td>-8889.230595</td>\n",
       "      <td>1191689.001</td>\n",
       "      <td>NaN</td>\n",
       "    </tr>\n",
       "    <tr>\n",
       "      <th>4</th>\n",
       "      <td>5.0</td>\n",
       "      <td>-13717.2626</td>\n",
       "      <td>1191689.001</td>\n",
       "      <td>-8889.230595</td>\n",
       "      <td>1186860.969</td>\n",
       "      <td>0.869869</td>\n",
       "    </tr>\n",
       "  </tbody>\n",
       "</table>\n",
       "</div>"
      ],
      "text/plain": [
       "    id        left          top         right       bottom  NBC_prob_Y\n",
       "0  1.0 -18545.2946  1196517.033 -13717.262600  1191689.001         NaN\n",
       "1  2.0 -18545.2946  1191689.001 -13717.262600  1186860.969         NaN\n",
       "2  3.0 -13717.2626  1201345.065  -8889.230595  1196517.033         NaN\n",
       "3  4.0 -13717.2626  1196517.033  -8889.230595  1191689.001         NaN\n",
       "4  5.0 -13717.2626  1191689.001  -8889.230595  1186860.969    0.869869"
      ]
     },
     "execution_count": 8,
     "metadata": {},
     "output_type": "execute_result"
    }
   ],
   "source": [
    "df.head(5)"
   ]
  },
  {
   "cell_type": "code",
   "execution_count": 9,
   "id": "cd365325",
   "metadata": {},
   "outputs": [
    {
     "name": "stdout",
     "output_type": "stream",
     "text": [
      "<class 'pandas.core.frame.DataFrame'>\n",
      "Int64Index: 157 entries, 4 to 883\n",
      "Data columns (total 6 columns):\n",
      " #   Column      Non-Null Count  Dtype  \n",
      "---  ------      --------------  -----  \n",
      " 0   id          157 non-null    float64\n",
      " 1   left        157 non-null    float64\n",
      " 2   top         157 non-null    float64\n",
      " 3   right       157 non-null    float64\n",
      " 4   bottom      157 non-null    float64\n",
      " 5   NBC_prob_Y  157 non-null    float64\n",
      "dtypes: float64(6)\n",
      "memory usage: 8.6 KB\n"
     ]
    }
   ],
   "source": [
    "df_train = df.dropna(axis=0)\n",
    "df_train.info()"
   ]
  },
  {
   "cell_type": "code",
   "execution_count": 10,
   "id": "c17ed0ba",
   "metadata": {},
   "outputs": [
    {
     "data": {
      "text/html": [
       "<div>\n",
       "<style scoped>\n",
       "    .dataframe tbody tr th:only-of-type {\n",
       "        vertical-align: middle;\n",
       "    }\n",
       "\n",
       "    .dataframe tbody tr th {\n",
       "        vertical-align: top;\n",
       "    }\n",
       "\n",
       "    .dataframe thead th {\n",
       "        text-align: right;\n",
       "    }\n",
       "</style>\n",
       "<table border=\"1\" class=\"dataframe\">\n",
       "  <thead>\n",
       "    <tr style=\"text-align: right;\">\n",
       "      <th></th>\n",
       "      <th>id</th>\n",
       "      <th>left</th>\n",
       "      <th>top</th>\n",
       "      <th>right</th>\n",
       "      <th>bottom</th>\n",
       "      <th>NBC_prob_Y</th>\n",
       "    </tr>\n",
       "  </thead>\n",
       "  <tbody>\n",
       "    <tr>\n",
       "      <th>4</th>\n",
       "      <td>5.0</td>\n",
       "      <td>-13717.2626</td>\n",
       "      <td>1191689.001</td>\n",
       "      <td>-8889.230595</td>\n",
       "      <td>1186860.969</td>\n",
       "      <td>8.698687e-01</td>\n",
       "    </tr>\n",
       "    <tr>\n",
       "      <th>117</th>\n",
       "      <td>118.0</td>\n",
       "      <td>-119933.9666</td>\n",
       "      <td>1027535.913</td>\n",
       "      <td>-115105.934600</td>\n",
       "      <td>1022707.881</td>\n",
       "      <td>1.820000e-05</td>\n",
       "    </tr>\n",
       "    <tr>\n",
       "      <th>134</th>\n",
       "      <td>135.0</td>\n",
       "      <td>-115105.9346</td>\n",
       "      <td>1099956.393</td>\n",
       "      <td>-110277.902600</td>\n",
       "      <td>1095128.361</td>\n",
       "      <td>1.140597e-03</td>\n",
       "    </tr>\n",
       "    <tr>\n",
       "      <th>135</th>\n",
       "      <td>136.0</td>\n",
       "      <td>-115105.9346</td>\n",
       "      <td>1095128.361</td>\n",
       "      <td>-110277.902600</td>\n",
       "      <td>1090300.329</td>\n",
       "      <td>2.289990e-01</td>\n",
       "    </tr>\n",
       "    <tr>\n",
       "      <th>138</th>\n",
       "      <td>139.0</td>\n",
       "      <td>-115105.9346</td>\n",
       "      <td>1080644.265</td>\n",
       "      <td>-110277.902600</td>\n",
       "      <td>1075816.233</td>\n",
       "      <td>6.110000e-07</td>\n",
       "    </tr>\n",
       "  </tbody>\n",
       "</table>\n",
       "</div>"
      ],
      "text/plain": [
       "        id         left          top          right       bottom    NBC_prob_Y\n",
       "4      5.0  -13717.2626  1191689.001   -8889.230595  1186860.969  8.698687e-01\n",
       "117  118.0 -119933.9666  1027535.913 -115105.934600  1022707.881  1.820000e-05\n",
       "134  135.0 -115105.9346  1099956.393 -110277.902600  1095128.361  1.140597e-03\n",
       "135  136.0 -115105.9346  1095128.361 -110277.902600  1090300.329  2.289990e-01\n",
       "138  139.0 -115105.9346  1080644.265 -110277.902600  1075816.233  6.110000e-07"
      ]
     },
     "execution_count": 10,
     "metadata": {},
     "output_type": "execute_result"
    }
   ],
   "source": [
    "df_train.head(5)"
   ]
  },
  {
   "cell_type": "code",
   "execution_count": 11,
   "id": "d7cae8b0",
   "metadata": {},
   "outputs": [],
   "source": [
    "X = df_train[df_train.columns[1:5]].copy()\n",
    "y = df_train['NBC_prob_Y'].copy()"
   ]
  },
  {
   "cell_type": "code",
   "execution_count": 12,
   "id": "40f589e1",
   "metadata": {},
   "outputs": [
    {
     "data": {
      "text/html": [
       "<div>\n",
       "<style scoped>\n",
       "    .dataframe tbody tr th:only-of-type {\n",
       "        vertical-align: middle;\n",
       "    }\n",
       "\n",
       "    .dataframe tbody tr th {\n",
       "        vertical-align: top;\n",
       "    }\n",
       "\n",
       "    .dataframe thead th {\n",
       "        text-align: right;\n",
       "    }\n",
       "</style>\n",
       "<table border=\"1\" class=\"dataframe\">\n",
       "  <thead>\n",
       "    <tr style=\"text-align: right;\">\n",
       "      <th></th>\n",
       "      <th>left</th>\n",
       "      <th>top</th>\n",
       "      <th>right</th>\n",
       "      <th>bottom</th>\n",
       "    </tr>\n",
       "  </thead>\n",
       "  <tbody>\n",
       "    <tr>\n",
       "      <th>4</th>\n",
       "      <td>-13717.262600</td>\n",
       "      <td>1191689.001</td>\n",
       "      <td>-8889.230595</td>\n",
       "      <td>1186860.969</td>\n",
       "    </tr>\n",
       "    <tr>\n",
       "      <th>117</th>\n",
       "      <td>-119933.966600</td>\n",
       "      <td>1027535.913</td>\n",
       "      <td>-115105.934600</td>\n",
       "      <td>1022707.881</td>\n",
       "    </tr>\n",
       "    <tr>\n",
       "      <th>134</th>\n",
       "      <td>-115105.934600</td>\n",
       "      <td>1099956.393</td>\n",
       "      <td>-110277.902600</td>\n",
       "      <td>1095128.361</td>\n",
       "    </tr>\n",
       "    <tr>\n",
       "      <th>135</th>\n",
       "      <td>-115105.934600</td>\n",
       "      <td>1095128.361</td>\n",
       "      <td>-110277.902600</td>\n",
       "      <td>1090300.329</td>\n",
       "    </tr>\n",
       "    <tr>\n",
       "      <th>138</th>\n",
       "      <td>-115105.934600</td>\n",
       "      <td>1080644.265</td>\n",
       "      <td>-110277.902600</td>\n",
       "      <td>1075816.233</td>\n",
       "    </tr>\n",
       "    <tr>\n",
       "      <th>...</th>\n",
       "      <td>...</td>\n",
       "      <td>...</td>\n",
       "      <td>...</td>\n",
       "      <td>...</td>\n",
       "    </tr>\n",
       "    <tr>\n",
       "      <th>855</th>\n",
       "      <td>-8889.230595</td>\n",
       "      <td>1167548.841</td>\n",
       "      <td>-4061.198595</td>\n",
       "      <td>1162720.809</td>\n",
       "    </tr>\n",
       "    <tr>\n",
       "      <th>857</th>\n",
       "      <td>-8889.230595</td>\n",
       "      <td>1157892.777</td>\n",
       "      <td>-4061.198595</td>\n",
       "      <td>1153064.745</td>\n",
       "    </tr>\n",
       "    <tr>\n",
       "      <th>866</th>\n",
       "      <td>-4061.198595</td>\n",
       "      <td>1167548.841</td>\n",
       "      <td>766.833405</td>\n",
       "      <td>1162720.809</td>\n",
       "    </tr>\n",
       "    <tr>\n",
       "      <th>881</th>\n",
       "      <td>5594.865405</td>\n",
       "      <td>1182032.937</td>\n",
       "      <td>10422.897400</td>\n",
       "      <td>1177204.905</td>\n",
       "    </tr>\n",
       "    <tr>\n",
       "      <th>883</th>\n",
       "      <td>5594.865405</td>\n",
       "      <td>1172376.873</td>\n",
       "      <td>10422.897400</td>\n",
       "      <td>1167548.841</td>\n",
       "    </tr>\n",
       "  </tbody>\n",
       "</table>\n",
       "<p>157 rows × 4 columns</p>\n",
       "</div>"
      ],
      "text/plain": [
       "              left          top          right       bottom\n",
       "4    -13717.262600  1191689.001   -8889.230595  1186860.969\n",
       "117 -119933.966600  1027535.913 -115105.934600  1022707.881\n",
       "134 -115105.934600  1099956.393 -110277.902600  1095128.361\n",
       "135 -115105.934600  1095128.361 -110277.902600  1090300.329\n",
       "138 -115105.934600  1080644.265 -110277.902600  1075816.233\n",
       "..             ...          ...            ...          ...\n",
       "855   -8889.230595  1167548.841   -4061.198595  1162720.809\n",
       "857   -8889.230595  1157892.777   -4061.198595  1153064.745\n",
       "866   -4061.198595  1167548.841     766.833405  1162720.809\n",
       "881    5594.865405  1182032.937   10422.897400  1177204.905\n",
       "883    5594.865405  1172376.873   10422.897400  1167548.841\n",
       "\n",
       "[157 rows x 4 columns]"
      ]
     },
     "execution_count": 12,
     "metadata": {},
     "output_type": "execute_result"
    }
   ],
   "source": [
    "X"
   ]
  },
  {
   "cell_type": "markdown",
   "id": "3ac7db82",
   "metadata": {},
   "source": [
    "# Training the K-NN model on the Training set"
   ]
  },
  {
   "cell_type": "code",
   "execution_count": 13,
   "id": "f51afc82-6351-464d-9c92-a82449d768ba",
   "metadata": {},
   "outputs": [
    {
     "data": {
      "text/plain": [
       "KNeighborsRegressor()"
      ]
     },
     "execution_count": 13,
     "metadata": {},
     "output_type": "execute_result"
    }
   ],
   "source": [
    "from sklearn.neighbors import KNeighborsRegressor\n",
    "# default hyperparameters\n",
    "knn = KNeighborsRegressor(n_neighbors=5, weights='uniform', algorithm='auto', leaf_size=30, p=2, \n",
    "                          metric='minkowski', metric_params=None, n_jobs=None)\n",
    "knn.fit(X,y)"
   ]
  },
  {
   "cell_type": "code",
   "execution_count": 14,
   "id": "454c9d3d-17d0-439c-8399-96ccce7ea7b1",
   "metadata": {},
   "outputs": [],
   "source": [
    "pred = knn.predict(X)"
   ]
  },
  {
   "cell_type": "code",
   "execution_count": 22,
   "id": "f9642487-58e7-4180-8a2b-da59e2a629cb",
   "metadata": {},
   "outputs": [],
   "source": [
    "from sklearn import metrics"
   ]
  },
  {
   "cell_type": "code",
   "execution_count": 24,
   "id": "3596bb1d-bbf8-4e1f-9b19-f9837b518e83",
   "metadata": {},
   "outputs": [
    {
     "name": "stdout",
     "output_type": "stream",
     "text": [
      "0.760166872533605\n"
     ]
    }
   ],
   "source": [
    "# r2 score\n",
    "r2 = metrics.r2_score(y, pred)\n",
    "print(r2)"
   ]
  },
  {
   "cell_type": "markdown",
   "id": "d7d79652",
   "metadata": {},
   "source": [
    "## predict all location"
   ]
  },
  {
   "cell_type": "code",
   "execution_count": 26,
   "id": "3a54bdab",
   "metadata": {},
   "outputs": [
    {
     "data": {
      "text/html": [
       "<div>\n",
       "<style scoped>\n",
       "    .dataframe tbody tr th:only-of-type {\n",
       "        vertical-align: middle;\n",
       "    }\n",
       "\n",
       "    .dataframe tbody tr th {\n",
       "        vertical-align: top;\n",
       "    }\n",
       "\n",
       "    .dataframe thead th {\n",
       "        text-align: right;\n",
       "    }\n",
       "</style>\n",
       "<table border=\"1\" class=\"dataframe\">\n",
       "  <thead>\n",
       "    <tr style=\"text-align: right;\">\n",
       "      <th></th>\n",
       "      <th>left</th>\n",
       "      <th>top</th>\n",
       "      <th>right</th>\n",
       "      <th>bottom</th>\n",
       "    </tr>\n",
       "  </thead>\n",
       "  <tbody>\n",
       "    <tr>\n",
       "      <th>0</th>\n",
       "      <td>-18545.2946</td>\n",
       "      <td>1196517.033</td>\n",
       "      <td>-13717.262600</td>\n",
       "      <td>1191689.001</td>\n",
       "    </tr>\n",
       "    <tr>\n",
       "      <th>1</th>\n",
       "      <td>-18545.2946</td>\n",
       "      <td>1191689.001</td>\n",
       "      <td>-13717.262600</td>\n",
       "      <td>1186860.969</td>\n",
       "    </tr>\n",
       "    <tr>\n",
       "      <th>2</th>\n",
       "      <td>-13717.2626</td>\n",
       "      <td>1201345.065</td>\n",
       "      <td>-8889.230595</td>\n",
       "      <td>1196517.033</td>\n",
       "    </tr>\n",
       "    <tr>\n",
       "      <th>3</th>\n",
       "      <td>-13717.2626</td>\n",
       "      <td>1196517.033</td>\n",
       "      <td>-8889.230595</td>\n",
       "      <td>1191689.001</td>\n",
       "    </tr>\n",
       "    <tr>\n",
       "      <th>4</th>\n",
       "      <td>-13717.2626</td>\n",
       "      <td>1191689.001</td>\n",
       "      <td>-8889.230595</td>\n",
       "      <td>1186860.969</td>\n",
       "    </tr>\n",
       "  </tbody>\n",
       "</table>\n",
       "</div>"
      ],
      "text/plain": [
       "         left          top         right       bottom\n",
       "0 -18545.2946  1196517.033 -13717.262600  1191689.001\n",
       "1 -18545.2946  1191689.001 -13717.262600  1186860.969\n",
       "2 -13717.2626  1201345.065  -8889.230595  1196517.033\n",
       "3 -13717.2626  1196517.033  -8889.230595  1191689.001\n",
       "4 -13717.2626  1191689.001  -8889.230595  1186860.969"
      ]
     },
     "execution_count": 26,
     "metadata": {},
     "output_type": "execute_result"
    }
   ],
   "source": [
    "X_all = df.iloc[:,1:5]\n",
    "X_all.head(5)"
   ]
  },
  {
   "cell_type": "code",
   "execution_count": 27,
   "id": "26441265",
   "metadata": {
    "scrolled": true
   },
   "outputs": [
    {
     "name": "stdout",
     "output_type": "stream",
     "text": [
      "<class 'pandas.core.frame.DataFrame'>\n",
      "Int64Index: 937 entries, 0 to 936\n",
      "Data columns (total 4 columns):\n",
      " #   Column  Non-Null Count  Dtype  \n",
      "---  ------  --------------  -----  \n",
      " 0   left    937 non-null    float64\n",
      " 1   top     937 non-null    float64\n",
      " 2   right   937 non-null    float64\n",
      " 3   bottom  937 non-null    float64\n",
      "dtypes: float64(4)\n",
      "memory usage: 36.6 KB\n"
     ]
    }
   ],
   "source": [
    "X_all.info()"
   ]
  },
  {
   "cell_type": "code",
   "execution_count": 29,
   "id": "38153ccc",
   "metadata": {},
   "outputs": [],
   "source": [
    "df_pred = knn.predict(X_all)"
   ]
  },
  {
   "cell_type": "code",
   "execution_count": 30,
   "id": "abdc1a42",
   "metadata": {},
   "outputs": [
    {
     "name": "stdout",
     "output_type": "stream",
     "text": [
      "<class 'pandas.core.frame.DataFrame'>\n",
      "Int64Index: 937 entries, 0 to 936\n",
      "Data columns (total 6 columns):\n",
      " #   Column       Non-Null Count  Dtype  \n",
      "---  ------       --------------  -----  \n",
      " 0   id           937 non-null    float64\n",
      " 1   left         937 non-null    float64\n",
      " 2   top          937 non-null    float64\n",
      " 3   right        937 non-null    float64\n",
      " 4   bottom       937 non-null    float64\n",
      " 5   KNNreg_pred  937 non-null    float64\n",
      "dtypes: float64(6)\n",
      "memory usage: 51.2 KB\n"
     ]
    }
   ],
   "source": [
    "# convert numpy array to pandas dataframe\n",
    "df_pred = pd.DataFrame(df_pred, columns = ['KNNreg_pred'])\n",
    "df_pred.index = dataset.index\n",
    "df_concat = dataset.iloc[:,:5]\n",
    "df_KNNpred = pd.concat([df_concat, df_pred], axis=1)\n",
    "df_KNNpred.info()"
   ]
  },
  {
   "cell_type": "code",
   "execution_count": 31,
   "id": "7a360d93",
   "metadata": {},
   "outputs": [],
   "source": [
    "df_KNNpred.to_csv('C:/Users/mengj/OneDrive - lamar.edu/LectureNote2023/MLforCivilEng/TeamProject2/WoodbineGrid_KNNreg_NBC.csv')"
   ]
  },
  {
   "cell_type": "code",
   "execution_count": null,
   "id": "f05cb3b5",
   "metadata": {},
   "outputs": [],
   "source": []
  }
 ],
 "metadata": {
  "kernelspec": {
   "display_name": "Python 3 (ipykernel)",
   "language": "python",
   "name": "python3"
  },
  "language_info": {
   "codemirror_mode": {
    "name": "ipython",
    "version": 3
   },
   "file_extension": ".py",
   "mimetype": "text/x-python",
   "name": "python",
   "nbconvert_exporter": "python",
   "pygments_lexer": "ipython3",
   "version": "3.9.13"
  }
 },
 "nbformat": 4,
 "nbformat_minor": 5
}
