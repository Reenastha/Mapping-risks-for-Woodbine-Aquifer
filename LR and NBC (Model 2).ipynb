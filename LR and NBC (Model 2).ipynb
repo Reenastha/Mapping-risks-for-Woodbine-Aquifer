{
 "cells": [
  {
   "cell_type": "markdown",
   "id": "3b8e1d65",
   "metadata": {},
   "source": [
    "<h2> <center> <font color = 'Magenta'> LR and NBC (Model 2) </h2>"
   ]
  },
  {
   "cell_type": "markdown",
   "id": "813ce090",
   "metadata": {},
   "source": [
    "<h6> Load Libraries </h6>"
   ]
  },
  {
   "cell_type": "code",
   "execution_count": 5,
   "id": "49b72f27",
   "metadata": {},
   "outputs": [],
   "source": [
    "import os\n",
    "import pandas as pd\n",
    "from sklearn.model_selection import train_test_split\n",
    "from sklearn.linear_model import LogisticRegression\n",
    "from sklearn import metrics\n",
    "from itertools import chain\n",
    "from matplotlib import pyplot as plt\n",
    "from sklearn.naive_bayes import GaussianNB"
   ]
  },
  {
   "cell_type": "markdown",
   "id": "73216246",
   "metadata": {},
   "source": [
    "<h6> Set the working directory </h6>"
   ]
  },
  {
   "cell_type": "code",
   "execution_count": 70,
   "id": "25b8538c",
   "metadata": {},
   "outputs": [
    {
     "data": {
      "text/html": [
       "<div>\n",
       "<style scoped>\n",
       "    .dataframe tbody tr th:only-of-type {\n",
       "        vertical-align: middle;\n",
       "    }\n",
       "\n",
       "    .dataframe tbody tr th {\n",
       "        vertical-align: top;\n",
       "    }\n",
       "\n",
       "    .dataframe thead th {\n",
       "        text-align: right;\n",
       "    }\n",
       "</style>\n",
       "<table border=\"1\" class=\"dataframe\">\n",
       "  <thead>\n",
       "    <tr style=\"text-align: right;\">\n",
       "      <th></th>\n",
       "      <th>Unnamed: 0.1</th>\n",
       "      <th>Unnamed: 0</th>\n",
       "      <th>StateWellNumber</th>\n",
       "      <th>StateWel_1</th>\n",
       "      <th>LatitudeDD</th>\n",
       "      <th>Dlat</th>\n",
       "      <th>Mlat</th>\n",
       "      <th>Slat</th>\n",
       "      <th>LongitudeD</th>\n",
       "      <th>Dlong</th>\n",
       "      <th>...</th>\n",
       "      <th>Chloride_mg/L</th>\n",
       "      <th>Fluoride_mg/L</th>\n",
       "      <th>pH</th>\n",
       "      <th>Texture_SSURGO</th>\n",
       "      <th>Texture_Num</th>\n",
       "      <th>Clay_SSURGO</th>\n",
       "      <th>SAR_SSURGO</th>\n",
       "      <th>EC_SSURGO</th>\n",
       "      <th>label</th>\n",
       "      <th>ppt</th>\n",
       "    </tr>\n",
       "  </thead>\n",
       "  <tbody>\n",
       "    <tr>\n",
       "      <th>0</th>\n",
       "      <td>0</td>\n",
       "      <td>0</td>\n",
       "      <td>1819901</td>\n",
       "      <td>1819901</td>\n",
       "      <td>33.625555</td>\n",
       "      <td>33</td>\n",
       "      <td>37</td>\n",
       "      <td>32.0</td>\n",
       "      <td>-96.658056</td>\n",
       "      <td>96</td>\n",
       "      <td>...</td>\n",
       "      <td>11.00</td>\n",
       "      <td>1.000</td>\n",
       "      <td>8.300000</td>\n",
       "      <td>Silty clay</td>\n",
       "      <td>2</td>\n",
       "      <td>55.0</td>\n",
       "      <td>1</td>\n",
       "      <td>2.0</td>\n",
       "      <td>0</td>\n",
       "      <td>1073.851318</td>\n",
       "    </tr>\n",
       "    <tr>\n",
       "      <th>1</th>\n",
       "      <td>1</td>\n",
       "      <td>1</td>\n",
       "      <td>1820804</td>\n",
       "      <td>1820804</td>\n",
       "      <td>33.635834</td>\n",
       "      <td>33</td>\n",
       "      <td>38</td>\n",
       "      <td>9.0</td>\n",
       "      <td>-96.564167</td>\n",
       "      <td>96</td>\n",
       "      <td>...</td>\n",
       "      <td>12.75</td>\n",
       "      <td>1.000</td>\n",
       "      <td>8.750000</td>\n",
       "      <td>Silty clay</td>\n",
       "      <td>2</td>\n",
       "      <td>55.0</td>\n",
       "      <td>1</td>\n",
       "      <td>2.0</td>\n",
       "      <td>0</td>\n",
       "      <td>1074.579956</td>\n",
       "    </tr>\n",
       "    <tr>\n",
       "      <th>2</th>\n",
       "      <td>2</td>\n",
       "      <td>2</td>\n",
       "      <td>1820805</td>\n",
       "      <td>1820805</td>\n",
       "      <td>33.641667</td>\n",
       "      <td>33</td>\n",
       "      <td>38</td>\n",
       "      <td>30.0</td>\n",
       "      <td>-96.560278</td>\n",
       "      <td>96</td>\n",
       "      <td>...</td>\n",
       "      <td>13.40</td>\n",
       "      <td>0.300</td>\n",
       "      <td>7.200000</td>\n",
       "      <td>Silty clay</td>\n",
       "      <td>2</td>\n",
       "      <td>55.0</td>\n",
       "      <td>1</td>\n",
       "      <td>2.0</td>\n",
       "      <td>0</td>\n",
       "      <td>1073.386353</td>\n",
       "    </tr>\n",
       "    <tr>\n",
       "      <th>3</th>\n",
       "      <td>3</td>\n",
       "      <td>3</td>\n",
       "      <td>1827203</td>\n",
       "      <td>1827203</td>\n",
       "      <td>33.621111</td>\n",
       "      <td>33</td>\n",
       "      <td>37</td>\n",
       "      <td>16.0</td>\n",
       "      <td>-96.683611</td>\n",
       "      <td>96</td>\n",
       "      <td>...</td>\n",
       "      <td>980.25</td>\n",
       "      <td>2.125</td>\n",
       "      <td>8.150000</td>\n",
       "      <td>Silty clay</td>\n",
       "      <td>2</td>\n",
       "      <td>55.0</td>\n",
       "      <td>1</td>\n",
       "      <td>2.0</td>\n",
       "      <td>1</td>\n",
       "      <td>1073.851318</td>\n",
       "    </tr>\n",
       "    <tr>\n",
       "      <th>4</th>\n",
       "      <td>4</td>\n",
       "      <td>4</td>\n",
       "      <td>1827801</td>\n",
       "      <td>1827801</td>\n",
       "      <td>33.532500</td>\n",
       "      <td>33</td>\n",
       "      <td>31</td>\n",
       "      <td>57.0</td>\n",
       "      <td>-96.701945</td>\n",
       "      <td>96</td>\n",
       "      <td>...</td>\n",
       "      <td>11.50</td>\n",
       "      <td>0.810</td>\n",
       "      <td>8.734286</td>\n",
       "      <td>Silty clay</td>\n",
       "      <td>2</td>\n",
       "      <td>55.0</td>\n",
       "      <td>1</td>\n",
       "      <td>2.0</td>\n",
       "      <td>0</td>\n",
       "      <td>1051.391113</td>\n",
       "    </tr>\n",
       "  </tbody>\n",
       "</table>\n",
       "<p>5 rows × 29 columns</p>\n",
       "</div>"
      ],
      "text/plain": [
       "   Unnamed: 0.1  Unnamed: 0  StateWellNumber  StateWel_1  LatitudeDD  Dlat  \\\n",
       "0             0           0          1819901     1819901   33.625555    33   \n",
       "1             1           1          1820804     1820804   33.635834    33   \n",
       "2             2           2          1820805     1820805   33.641667    33   \n",
       "3             3           3          1827203     1827203   33.621111    33   \n",
       "4             4           4          1827801     1827801   33.532500    33   \n",
       "\n",
       "   Mlat  Slat  LongitudeD  Dlong  ...  Chloride_mg/L  Fluoride_mg/L        pH  \\\n",
       "0    37  32.0  -96.658056     96  ...          11.00          1.000  8.300000   \n",
       "1    38   9.0  -96.564167     96  ...          12.75          1.000  8.750000   \n",
       "2    38  30.0  -96.560278     96  ...          13.40          0.300  7.200000   \n",
       "3    37  16.0  -96.683611     96  ...         980.25          2.125  8.150000   \n",
       "4    31  57.0  -96.701945     96  ...          11.50          0.810  8.734286   \n",
       "\n",
       "   Texture_SSURGO  Texture_Num  Clay_SSURGO  SAR_SSURGO  EC_SSURGO  label  \\\n",
       "0      Silty clay            2         55.0           1        2.0      0   \n",
       "1      Silty clay            2         55.0           1        2.0      0   \n",
       "2      Silty clay            2         55.0           1        2.0      0   \n",
       "3      Silty clay            2         55.0           1        2.0      1   \n",
       "4      Silty clay            2         55.0           1        2.0      0   \n",
       "\n",
       "           ppt  \n",
       "0  1073.851318  \n",
       "1  1074.579956  \n",
       "2  1073.386353  \n",
       "3  1073.851318  \n",
       "4  1051.391113  \n",
       "\n",
       "[5 rows x 29 columns]"
      ]
     },
     "execution_count": 70,
     "metadata": {},
     "output_type": "execute_result"
    }
   ],
   "source": [
    "path = \"C:/Users/Reena Shrestha/OneDrive - lamar.edu/Desktop/Machine learning/Project_2\"\n",
    "fname = 'WB.csv'\n",
    "os.chdir(path) \n",
    "a = pd.read_csv(fname)\n",
    "a.head(5)"
   ]
  },
  {
   "cell_type": "code",
   "execution_count": 71,
   "id": "48b2fba8",
   "metadata": {},
   "outputs": [],
   "source": [
    "features = ['TDS_mg/L','pH', 'WellDepth', 'Hardness_mg/L','EC_SSURGO','ppt'] # List of Input features for model\n",
    "X = a[features] # Dataframe of the data features\n",
    "Y = a['Fluoride_mg/L'] # Add Y variable to the input deature datframe"
   ]
  },
  {
   "cell_type": "code",
   "execution_count": 72,
   "id": "b8ec8f28",
   "metadata": {},
   "outputs": [
    {
     "data": {
      "text/plain": [
       "count    268.000000\n",
       "mean       1.337922\n",
       "std        1.068650\n",
       "min        0.143333\n",
       "25%        0.500000\n",
       "50%        1.000000\n",
       "75%        1.900000\n",
       "max        5.175000\n",
       "Name: Fluoride_mg/L, dtype: float64"
      ]
     },
     "execution_count": 72,
     "metadata": {},
     "output_type": "execute_result"
    }
   ],
   "source": [
    "Y.describe()"
   ]
  },
  {
   "cell_type": "code",
   "execution_count": 73,
   "id": "b79668ce",
   "metadata": {},
   "outputs": [
    {
     "data": {
      "text/html": [
       "<div>\n",
       "<style scoped>\n",
       "    .dataframe tbody tr th:only-of-type {\n",
       "        vertical-align: middle;\n",
       "    }\n",
       "\n",
       "    .dataframe tbody tr th {\n",
       "        vertical-align: top;\n",
       "    }\n",
       "\n",
       "    .dataframe thead th {\n",
       "        text-align: right;\n",
       "    }\n",
       "</style>\n",
       "<table border=\"1\" class=\"dataframe\">\n",
       "  <thead>\n",
       "    <tr style=\"text-align: right;\">\n",
       "      <th></th>\n",
       "      <th>TDS_mg/L</th>\n",
       "      <th>pH</th>\n",
       "      <th>WellDepth</th>\n",
       "      <th>Hardness_mg/L</th>\n",
       "      <th>EC_SSURGO</th>\n",
       "      <th>ppt</th>\n",
       "    </tr>\n",
       "  </thead>\n",
       "  <tbody>\n",
       "    <tr>\n",
       "      <th>TDS_mg/L</th>\n",
       "      <td>1.000000</td>\n",
       "      <td>0.193212</td>\n",
       "      <td>0.407251</td>\n",
       "      <td>0.269447</td>\n",
       "      <td>0.060182</td>\n",
       "      <td>0.110346</td>\n",
       "    </tr>\n",
       "    <tr>\n",
       "      <th>pH</th>\n",
       "      <td>0.193212</td>\n",
       "      <td>1.000000</td>\n",
       "      <td>0.384859</td>\n",
       "      <td>-0.427399</td>\n",
       "      <td>0.044066</td>\n",
       "      <td>0.318389</td>\n",
       "    </tr>\n",
       "    <tr>\n",
       "      <th>WellDepth</th>\n",
       "      <td>0.407251</td>\n",
       "      <td>0.384859</td>\n",
       "      <td>1.000000</td>\n",
       "      <td>-0.278592</td>\n",
       "      <td>0.061108</td>\n",
       "      <td>0.621192</td>\n",
       "    </tr>\n",
       "    <tr>\n",
       "      <th>Hardness_mg/L</th>\n",
       "      <td>0.269447</td>\n",
       "      <td>-0.427399</td>\n",
       "      <td>-0.278592</td>\n",
       "      <td>1.000000</td>\n",
       "      <td>0.035050</td>\n",
       "      <td>-0.126330</td>\n",
       "    </tr>\n",
       "    <tr>\n",
       "      <th>EC_SSURGO</th>\n",
       "      <td>0.060182</td>\n",
       "      <td>0.044066</td>\n",
       "      <td>0.061108</td>\n",
       "      <td>0.035050</td>\n",
       "      <td>1.000000</td>\n",
       "      <td>0.049456</td>\n",
       "    </tr>\n",
       "    <tr>\n",
       "      <th>ppt</th>\n",
       "      <td>0.110346</td>\n",
       "      <td>0.318389</td>\n",
       "      <td>0.621192</td>\n",
       "      <td>-0.126330</td>\n",
       "      <td>0.049456</td>\n",
       "      <td>1.000000</td>\n",
       "    </tr>\n",
       "  </tbody>\n",
       "</table>\n",
       "</div>"
      ],
      "text/plain": [
       "               TDS_mg/L        pH  WellDepth  Hardness_mg/L  EC_SSURGO  \\\n",
       "TDS_mg/L       1.000000  0.193212   0.407251       0.269447   0.060182   \n",
       "pH             0.193212  1.000000   0.384859      -0.427399   0.044066   \n",
       "WellDepth      0.407251  0.384859   1.000000      -0.278592   0.061108   \n",
       "Hardness_mg/L  0.269447 -0.427399  -0.278592       1.000000   0.035050   \n",
       "EC_SSURGO      0.060182  0.044066   0.061108       0.035050   1.000000   \n",
       "ppt            0.110346  0.318389   0.621192      -0.126330   0.049456   \n",
       "\n",
       "                    ppt  \n",
       "TDS_mg/L       0.110346  \n",
       "pH             0.318389  \n",
       "WellDepth      0.621192  \n",
       "Hardness_mg/L -0.126330  \n",
       "EC_SSURGO      0.049456  \n",
       "ppt            1.000000  "
      ]
     },
     "execution_count": 73,
     "metadata": {},
     "output_type": "execute_result"
    }
   ],
   "source": [
    "X = (X-X.min()) / (X.max()-X.min()) # Normalize the data\n",
    "Y = Y.apply(lambda Y:Y >= 1.9).astype(int) # convert the continuous variable to binary variable with threshold of 1.9\n",
    "X.corr()"
   ]
  },
  {
   "cell_type": "markdown",
   "id": "82ae8c19",
   "metadata": {},
   "source": [
    "<h6> Split into training and testing data </h6>"
   ]
  },
  {
   "cell_type": "code",
   "execution_count": 74,
   "id": "1e4c6730",
   "metadata": {},
   "outputs": [],
   "source": [
    "X_train,X_test,Y_train,Y_test=train_test_split(X,Y,test_size=0.20,random_state=10)"
   ]
  },
  {
   "cell_type": "markdown",
   "id": "8521576b",
   "metadata": {},
   "source": [
    "<center> <h2> <font color='blue'> Logistic Regression </h2>"
   ]
  },
  {
   "cell_type": "code",
   "execution_count": 75,
   "id": "ab92760c",
   "metadata": {},
   "outputs": [],
   "source": [
    "# instantiate the model \n",
    "logreg = LogisticRegression(C=10**9) # setting a large C to ensure no regulation"
   ]
  },
  {
   "cell_type": "code",
   "execution_count": 76,
   "id": "7a940480",
   "metadata": {},
   "outputs": [
    {
     "data": {
      "text/plain": [
       "LogisticRegression(C=1000000000)"
      ]
     },
     "execution_count": 76,
     "metadata": {},
     "output_type": "execute_result"
    }
   ],
   "source": [
    "# fit the model to training data\n",
    "logreg.fit(X_train,Y_train)"
   ]
  },
  {
   "cell_type": "markdown",
   "id": "f893ead3",
   "metadata": {},
   "source": [
    "<h6> Making prediction for training data </h6>"
   ]
  },
  {
   "cell_type": "code",
   "execution_count": 77,
   "id": "961975b9",
   "metadata": {},
   "outputs": [
    {
     "data": {
      "text/html": [
       "<div>\n",
       "<style scoped>\n",
       "    .dataframe tbody tr th:only-of-type {\n",
       "        vertical-align: middle;\n",
       "    }\n",
       "\n",
       "    .dataframe tbody tr th {\n",
       "        vertical-align: top;\n",
       "    }\n",
       "\n",
       "    .dataframe thead th {\n",
       "        text-align: right;\n",
       "    }\n",
       "</style>\n",
       "<table border=\"1\" class=\"dataframe\">\n",
       "  <thead>\n",
       "    <tr style=\"text-align: right;\">\n",
       "      <th></th>\n",
       "      <th>0</th>\n",
       "      <th>1</th>\n",
       "    </tr>\n",
       "  </thead>\n",
       "  <tbody>\n",
       "    <tr>\n",
       "      <th>0</th>\n",
       "      <td>0.742433</td>\n",
       "      <td>0.257567</td>\n",
       "    </tr>\n",
       "    <tr>\n",
       "      <th>1</th>\n",
       "      <td>0.769288</td>\n",
       "      <td>0.230712</td>\n",
       "    </tr>\n",
       "    <tr>\n",
       "      <th>2</th>\n",
       "      <td>0.966873</td>\n",
       "      <td>0.033127</td>\n",
       "    </tr>\n",
       "    <tr>\n",
       "      <th>3</th>\n",
       "      <td>0.003603</td>\n",
       "      <td>0.996397</td>\n",
       "    </tr>\n",
       "    <tr>\n",
       "      <th>4</th>\n",
       "      <td>0.999560</td>\n",
       "      <td>0.000440</td>\n",
       "    </tr>\n",
       "  </tbody>\n",
       "</table>\n",
       "</div>"
      ],
      "text/plain": [
       "          0         1\n",
       "0  0.742433  0.257567\n",
       "1  0.769288  0.230712\n",
       "2  0.966873  0.033127\n",
       "3  0.003603  0.996397\n",
       "4  0.999560  0.000440"
      ]
     },
     "execution_count": 77,
     "metadata": {},
     "output_type": "execute_result"
    }
   ],
   "source": [
    "Y_pred = logreg.predict(X_train) # Make Predictions\n",
    "Yprob = logreg.predict_proba(X_train) #test output probabilities\n",
    "zz = pd.DataFrame(Yprob)\n",
    "zz.head()"
   ]
  },
  {
   "cell_type": "markdown",
   "id": "fa0ca3fa",
   "metadata": {},
   "source": [
    "<h6> Making prediction for testing data </h6>"
   ]
  },
  {
   "cell_type": "code",
   "execution_count": 78,
   "id": "9aad23bf",
   "metadata": {},
   "outputs": [
    {
     "data": {
      "text/html": [
       "<div>\n",
       "<style scoped>\n",
       "    .dataframe tbody tr th:only-of-type {\n",
       "        vertical-align: middle;\n",
       "    }\n",
       "\n",
       "    .dataframe tbody tr th {\n",
       "        vertical-align: top;\n",
       "    }\n",
       "\n",
       "    .dataframe thead th {\n",
       "        text-align: right;\n",
       "    }\n",
       "</style>\n",
       "<table border=\"1\" class=\"dataframe\">\n",
       "  <thead>\n",
       "    <tr style=\"text-align: right;\">\n",
       "      <th></th>\n",
       "      <th>0</th>\n",
       "      <th>1</th>\n",
       "    </tr>\n",
       "  </thead>\n",
       "  <tbody>\n",
       "    <tr>\n",
       "      <th>0</th>\n",
       "      <td>0.158385</td>\n",
       "      <td>0.841615</td>\n",
       "    </tr>\n",
       "    <tr>\n",
       "      <th>1</th>\n",
       "      <td>0.626086</td>\n",
       "      <td>0.373914</td>\n",
       "    </tr>\n",
       "    <tr>\n",
       "      <th>2</th>\n",
       "      <td>0.785667</td>\n",
       "      <td>0.214333</td>\n",
       "    </tr>\n",
       "    <tr>\n",
       "      <th>3</th>\n",
       "      <td>0.716122</td>\n",
       "      <td>0.283878</td>\n",
       "    </tr>\n",
       "    <tr>\n",
       "      <th>4</th>\n",
       "      <td>0.020605</td>\n",
       "      <td>0.979395</td>\n",
       "    </tr>\n",
       "  </tbody>\n",
       "</table>\n",
       "</div>"
      ],
      "text/plain": [
       "          0         1\n",
       "0  0.158385  0.841615\n",
       "1  0.626086  0.373914\n",
       "2  0.785667  0.214333\n",
       "3  0.716122  0.283878\n",
       "4  0.020605  0.979395"
      ]
     },
     "execution_count": 78,
     "metadata": {},
     "output_type": "execute_result"
    }
   ],
   "source": [
    "Y_pred1 = logreg.predict(X_test) # Make Predictions\n",
    "Yprob1 = logreg.predict_proba(X_test) #test output probabilities\n",
    "zz1 = pd.DataFrame(Yprob1)\n",
    "zz1.head()"
   ]
  },
  {
   "cell_type": "code",
   "execution_count": 79,
   "id": "ab08f180",
   "metadata": {},
   "outputs": [
    {
     "data": {
      "text/plain": [
       "array([-9.6822997])"
      ]
     },
     "execution_count": 79,
     "metadata": {},
     "output_type": "execute_result"
    }
   ],
   "source": [
    "logreg.get_params()\n",
    "logreg.coef_\n",
    "logreg.intercept_"
   ]
  },
  {
   "cell_type": "markdown",
   "id": "97b7cc16",
   "metadata": {},
   "source": [
    "<h6> Evaluate the model using accuracy, precision, recall for train data </h6>"
   ]
  },
  {
   "cell_type": "code",
   "execution_count": 80,
   "id": "34ae4935",
   "metadata": {},
   "outputs": [
    {
     "name": "stdout",
     "output_type": "stream",
     "text": [
      "Accuracy: 0.8925233644859814\n",
      "Precision: 0.851063829787234\n",
      "Recall: 0.7142857142857143\n"
     ]
    }
   ],
   "source": [
    "print(\"Accuracy:\",metrics.accuracy_score(Y_train, Y_pred)) #Accuracy of the model on training data\n",
    "print(\"Precision:\",metrics.precision_score(Y_train, Y_pred)) #Precision of the model on training data\n",
    "print(\"Recall:\",metrics.recall_score(Y_train, Y_pred)) #Recall of the model on training data"
   ]
  },
  {
   "cell_type": "markdown",
   "id": "7546c53e",
   "metadata": {},
   "source": [
    "<h6> Evaluate the model using accuracy, precision, recall for test data </h6>"
   ]
  },
  {
   "cell_type": "code",
   "execution_count": 81,
   "id": "e243b31e",
   "metadata": {},
   "outputs": [
    {
     "name": "stdout",
     "output_type": "stream",
     "text": [
      "Accuracy: 0.9259259259259259\n",
      "Precision: 1.0\n",
      "Recall: 0.6666666666666666\n"
     ]
    }
   ],
   "source": [
    "print(\"Accuracy:\",metrics.accuracy_score(Y_test, Y_pred1)) #Accuracy of the model on testing data\n",
    "print(\"Precision:\",metrics.precision_score(Y_test, Y_pred1)) #Precision of the model on testing data\n",
    "print(\"Recall:\",metrics.recall_score(Y_test, Y_pred1)) #Recall of the model on testing data"
   ]
  },
  {
   "cell_type": "markdown",
   "id": "71f26cfd",
   "metadata": {},
   "source": [
    "<h6> Extract the predictions in csv </h6>"
   ]
  },
  {
   "cell_type": "code",
   "execution_count": 82,
   "id": "cbd53fcd",
   "metadata": {},
   "outputs": [],
   "source": [
    "Y_pred_LR = logreg.predict(X)\n",
    "df_pred = pd.DataFrame(Y_pred_LR, columns = ['LR_pred_Y'])\n",
    "df_pred1 = pd.concat([a, df_pred], axis=1)\n",
    "df_pred1.to_csv('Y_pred_LR.csv')"
   ]
  },
  {
   "cell_type": "markdown",
   "id": "8cf4d8cf",
   "metadata": {},
   "source": [
    "<center> <h2> <font color='blue'> Naive Bayes Classifier </h2>"
   ]
  },
  {
   "cell_type": "code",
   "execution_count": 92,
   "id": "2b064bef",
   "metadata": {},
   "outputs": [
    {
     "data": {
      "text/plain": [
       "GaussianNB(var_smoothing=0.04232737034769455)"
      ]
     },
     "execution_count": 92,
     "metadata": {},
     "output_type": "execute_result"
    }
   ],
   "source": [
    "gnb = GaussianNB(var_smoothing=0.04232737034769455)\n",
    "# fit the model to training data\n",
    "gnb.fit(X_train,Y_train)"
   ]
  },
  {
   "cell_type": "markdown",
   "id": "d0117505",
   "metadata": {},
   "source": [
    "<h6> Making prediction for training data </h6>"
   ]
  },
  {
   "cell_type": "code",
   "execution_count": 93,
   "id": "dc352ec2",
   "metadata": {},
   "outputs": [
    {
     "data": {
      "text/html": [
       "<div>\n",
       "<style scoped>\n",
       "    .dataframe tbody tr th:only-of-type {\n",
       "        vertical-align: middle;\n",
       "    }\n",
       "\n",
       "    .dataframe tbody tr th {\n",
       "        vertical-align: top;\n",
       "    }\n",
       "\n",
       "    .dataframe thead th {\n",
       "        text-align: right;\n",
       "    }\n",
       "</style>\n",
       "<table border=\"1\" class=\"dataframe\">\n",
       "  <thead>\n",
       "    <tr style=\"text-align: right;\">\n",
       "      <th></th>\n",
       "      <th>0</th>\n",
       "      <th>1</th>\n",
       "    </tr>\n",
       "  </thead>\n",
       "  <tbody>\n",
       "    <tr>\n",
       "      <th>0</th>\n",
       "      <td>0.742433</td>\n",
       "      <td>0.257567</td>\n",
       "    </tr>\n",
       "    <tr>\n",
       "      <th>1</th>\n",
       "      <td>0.769288</td>\n",
       "      <td>0.230712</td>\n",
       "    </tr>\n",
       "    <tr>\n",
       "      <th>2</th>\n",
       "      <td>0.966873</td>\n",
       "      <td>0.033127</td>\n",
       "    </tr>\n",
       "    <tr>\n",
       "      <th>3</th>\n",
       "      <td>0.003603</td>\n",
       "      <td>0.996397</td>\n",
       "    </tr>\n",
       "    <tr>\n",
       "      <th>4</th>\n",
       "      <td>0.999560</td>\n",
       "      <td>0.000440</td>\n",
       "    </tr>\n",
       "  </tbody>\n",
       "</table>\n",
       "</div>"
      ],
      "text/plain": [
       "          0         1\n",
       "0  0.742433  0.257567\n",
       "1  0.769288  0.230712\n",
       "2  0.966873  0.033127\n",
       "3  0.003603  0.996397\n",
       "4  0.999560  0.000440"
      ]
     },
     "execution_count": 93,
     "metadata": {},
     "output_type": "execute_result"
    }
   ],
   "source": [
    "Y_pred2 = gnb.predict(X_train) # Make Predictions\n",
    "Yprob2 = gnb.predict_proba(X_train) #test output probabilities\n",
    "zz = pd.DataFrame(Yprob)\n",
    "zz.head()"
   ]
  },
  {
   "cell_type": "markdown",
   "id": "649f1dea",
   "metadata": {},
   "source": [
    "<h6> Making prediction for testing data </h6>"
   ]
  },
  {
   "cell_type": "code",
   "execution_count": 94,
   "id": "759a1c7f",
   "metadata": {},
   "outputs": [
    {
     "data": {
      "text/html": [
       "<div>\n",
       "<style scoped>\n",
       "    .dataframe tbody tr th:only-of-type {\n",
       "        vertical-align: middle;\n",
       "    }\n",
       "\n",
       "    .dataframe tbody tr th {\n",
       "        vertical-align: top;\n",
       "    }\n",
       "\n",
       "    .dataframe thead th {\n",
       "        text-align: right;\n",
       "    }\n",
       "</style>\n",
       "<table border=\"1\" class=\"dataframe\">\n",
       "  <thead>\n",
       "    <tr style=\"text-align: right;\">\n",
       "      <th></th>\n",
       "      <th>0</th>\n",
       "      <th>1</th>\n",
       "    </tr>\n",
       "  </thead>\n",
       "  <tbody>\n",
       "    <tr>\n",
       "      <th>0</th>\n",
       "      <td>0.488222</td>\n",
       "      <td>0.511778</td>\n",
       "    </tr>\n",
       "    <tr>\n",
       "      <th>1</th>\n",
       "      <td>0.629161</td>\n",
       "      <td>0.370839</td>\n",
       "    </tr>\n",
       "    <tr>\n",
       "      <th>2</th>\n",
       "      <td>0.296724</td>\n",
       "      <td>0.703276</td>\n",
       "    </tr>\n",
       "    <tr>\n",
       "      <th>3</th>\n",
       "      <td>0.674053</td>\n",
       "      <td>0.325947</td>\n",
       "    </tr>\n",
       "    <tr>\n",
       "      <th>4</th>\n",
       "      <td>0.152826</td>\n",
       "      <td>0.847174</td>\n",
       "    </tr>\n",
       "  </tbody>\n",
       "</table>\n",
       "</div>"
      ],
      "text/plain": [
       "          0         1\n",
       "0  0.488222  0.511778\n",
       "1  0.629161  0.370839\n",
       "2  0.296724  0.703276\n",
       "3  0.674053  0.325947\n",
       "4  0.152826  0.847174"
      ]
     },
     "execution_count": 94,
     "metadata": {},
     "output_type": "execute_result"
    }
   ],
   "source": [
    "Y_pred3 = gnb.predict(X_test) # Make Predictions\n",
    "Yprob3 = gnb.predict_proba(X_test) #test output probabilities\n",
    "zz1 = pd.DataFrame(Yprob3)\n",
    "zz1.head()"
   ]
  },
  {
   "cell_type": "markdown",
   "id": "22fce6b8",
   "metadata": {},
   "source": [
    "<h6> Evaluate the model using accuracy, precision, recall for train data </h6>"
   ]
  },
  {
   "cell_type": "code",
   "execution_count": 95,
   "id": "e719444f",
   "metadata": {},
   "outputs": [
    {
     "name": "stdout",
     "output_type": "stream",
     "text": [
      "Accuracy: 0.8037383177570093\n",
      "Precision: 0.6166666666666667\n",
      "Recall: 0.6607142857142857\n"
     ]
    }
   ],
   "source": [
    "print(\"Accuracy:\",metrics.accuracy_score(Y_train, Y_pred2)) #Accuracy of the model on training data\n",
    "print(\"Precision:\",metrics.precision_score(Y_train, Y_pred2)) #Precision of the model on training data\n",
    "print(\"Recall:\",metrics.recall_score(Y_train, Y_pred2)) #Recall of the model on training data"
   ]
  },
  {
   "cell_type": "markdown",
   "id": "880d83d2",
   "metadata": {},
   "source": [
    "<h6> Evaluate the model using accuracy, precision, recall for test data </h6>"
   ]
  },
  {
   "cell_type": "code",
   "execution_count": 96,
   "id": "331d9212",
   "metadata": {},
   "outputs": [
    {
     "name": "stdout",
     "output_type": "stream",
     "text": [
      "Accuracy: 0.7962962962962963\n",
      "Precision: 0.5384615384615384\n",
      "Recall: 0.5833333333333334\n"
     ]
    }
   ],
   "source": [
    "print(\"Accuracy:\",metrics.accuracy_score(Y_test, Y_pred3)) #Accuracy of the model on testing data\n",
    "print(\"Precision:\",metrics.precision_score(Y_test, Y_pred3)) #Precision of the model on testing data\n",
    "print(\"Recall:\",metrics.recall_score(Y_test, Y_pred3)) #Recall of the model on testing data"
   ]
  },
  {
   "cell_type": "markdown",
   "id": "96691689",
   "metadata": {},
   "source": [
    "<h3> <center> <font color='red'> Comparision of ROC curve for LR and NBC for training data </h3>"
   ]
  },
  {
   "cell_type": "code",
   "execution_count": 98,
   "id": "c43e0385",
   "metadata": {},
   "outputs": [
    {
     "data": {
      "image/png": "[encoded data removed]",
      "text/plain": [
       "<Figure size 640x480 with 1 Axes>"
      ]
     },
     "metadata": {},
     "output_type": "display_data"
    }
   ],
   "source": [
    "Y_pred_proba_LR = logreg.predict_proba(X_train)[::,1]\n",
    "Y_pred_proba_NBC = gnb.predict_proba(X_train)[::,1]\n",
    "\n",
    "fpr, tpr, _ = metrics.roc_curve(Y_train, Y_pred_proba_LR)\n",
    "fpr_1, tpr_1, _ = metrics.roc_curve(Y_train,  Y_pred_proba_NBC)\n",
    "auc_LR = metrics.roc_auc_score(Y_train, Y_pred_proba_LR)\n",
    "auc_NBC = metrics.roc_auc_score(Y_train, Y_pred_proba_NBC)\n",
    "plt.plot(fpr,tpr, color='darkorange',label=\"data_LR, auc_LR =\"+str(round(auc_LR,4)))\n",
    "plt.plot(fpr_1,tpr_1, color='navy',label=\"data_NBC, auc_NBC =\"+str(round(auc_NBC,4)))\n",
    "plt.plot([0, 1], [0, 1], color='gray', linestyle='--')\n",
    "plt.legend(loc=4)\n",
    "plt.title('ROC curve for training data')\n",
    "plt.xlabel('1-Specificity')\n",
    "plt.ylabel('Sensitivity')\n",
    "plt.grid()\n",
    "plt.show()"
   ]
  },
  {
   "cell_type": "markdown",
   "id": "0f8a39a8",
   "metadata": {},
   "source": [
    "<h3> <center> <font color='red'> Comparision of ROC curve for LR and NBC for testing data </h3>"
   ]
  },
  {
   "cell_type": "code",
   "execution_count": 99,
   "id": "8e3a487f",
   "metadata": {},
   "outputs": [
    {
     "data": {
      "image/png": "[encoded data removed]",
      "text/plain": [
       "<Figure size 640x480 with 1 Axes>"
      ]
     },
     "metadata": {},
     "output_type": "display_data"
    }
   ],
   "source": [
    "Y_pred_proba_LR1 = logreg.predict_proba(X_test)[::,1]\n",
    "Y_pred_proba_NBC1 = gnb.predict_proba(X_test)[::,1]\n",
    "fpr, tpr, _ = metrics.roc_curve(Y_test, Y_pred_proba_LR1)\n",
    "fpr_1, tpr_1, _ = metrics.roc_curve(Y_test,  Y_pred_proba_NBC1)\n",
    "auc_LR = metrics.roc_auc_score(Y_test, Y_pred_proba_LR1)\n",
    "auc_NBC = metrics.roc_auc_score(Y_test, Y_pred_proba_NBC1)\n",
    "plt.plot(fpr,tpr, color='darkorange',label=\"data_LR, auc_LR =\"+str(round(auc_LR,4)))\n",
    "plt.plot(fpr_1,tpr_1, color='navy',label=\"data_NBC, auc_NBC =\"+str(round(auc_NBC,4)))\n",
    "plt.plot([0, 1], [0, 1], color='gray', linestyle='--')\n",
    "plt.legend(loc=4)\n",
    "plt.title('ROC curve for testing data')\n",
    "plt.xlabel('1-Specificity')\n",
    "plt.ylabel('Sensitivity')\n",
    "plt.grid()\n",
    "plt.show()"
   ]
  },
  {
   "cell_type": "markdown",
   "id": "7a2ccf8c",
   "metadata": {},
   "source": [
    "<h3> <center> <font color='red'> Comparision of Confusion matrix for LR and NBC for training data </h3>"
   ]
  },
  {
   "cell_type": "code",
   "execution_count": 100,
   "id": "38025ba9",
   "metadata": {},
   "outputs": [
    {
     "data": {
      "image/png": "[encoded data removed]",
      "text/plain": [
       "<Figure size 1000x500 with 4 Axes>"
      ]
     },
     "metadata": {},
     "output_type": "display_data"
    }
   ],
   "source": [
    "cnf_matrix_LR = metrics.confusion_matrix(Y_train, Y_pred) # Calculate confusion matrix for the LR model\n",
    "cnf_matrix_NBC = metrics.confusion_matrix(Y_train, Y_pred2) # Calculate confusion matrix for the NBC model\n",
    "\n",
    "fig, axs = plt.subplots(1, 2, figsize=(10, 5)) # create subplots with 1 row and 2 columns\n",
    "\n",
    "disp1 = metrics.ConfusionMatrixDisplay(confusion_matrix=cnf_matrix_LR)\n",
    "disp1.plot(ax=axs[0]) # plot the first confusion matrix on the first subplot\n",
    "axs[0].set_title('Logistic Regression') # set title for the first subplot\n",
    "\n",
    "disp2 = metrics.ConfusionMatrixDisplay(confusion_matrix=cnf_matrix_NBC)\n",
    "disp2.plot(ax=axs[1]) # plot the second confusion matrix on the second subplot\n",
    "axs[1].set_title('Naive Bayes Classifier') # set title for the second subplot\n",
    "\n",
    "plt.suptitle('Confusion Matrices for Logistic Regression and Naive Bayes Classifier for training data') # set suptitle for the entire plot\n",
    "\n",
    "plt.show() # display the plot\n"
   ]
  },
  {
   "cell_type": "markdown",
   "id": "59b8e96d",
   "metadata": {},
   "source": [
    "<h3> <center> <font color='red'> Comparision of Confusion matrix for LR and NBC for testing data </h3>"
   ]
  },
  {
   "cell_type": "code",
   "execution_count": 101,
   "id": "8cd41d57",
   "metadata": {},
   "outputs": [
    {
     "data": {
      "image/png": "[encoded data removed]",
      "text/plain": [
       "<Figure size 1000x500 with 4 Axes>"
      ]
     },
     "metadata": {},
     "output_type": "display_data"
    }
   ],
   "source": [
    "cnf_matrix_LR1 = metrics.confusion_matrix(Y_test, Y_pred1) # Calculate confusion matrix for the LR model\n",
    "cnf_matrix_NBC1 = metrics.confusion_matrix(Y_test, Y_pred3) # Calculate confusion matrix for the NBC model\n",
    "\n",
    "fig, axs = plt.subplots(1, 2, figsize=(10, 5)) # create subplots with 1 row and 2 columns\n",
    "\n",
    "disp3 = metrics.ConfusionMatrixDisplay(confusion_matrix=cnf_matrix_LR1)\n",
    "disp3.plot(ax=axs[0]) # plot the first confusion matrix on the first subplot\n",
    "axs[0].set_title('Logistic Regression') # set title for the first subplot\n",
    "\n",
    "disp4 = metrics.ConfusionMatrixDisplay(confusion_matrix=cnf_matrix_NBC1)\n",
    "disp4.plot(ax=axs[1]) # plot the second confusion matrix on the second subplot\n",
    "axs[1].set_title('Naive Bayes Classifier') # set title for the second subplot\n",
    "\n",
    "plt.suptitle('Confusion Matrices for Logistic Regression and Naive Bayes Classifier for testing data') # set suptitle for the entire plot\n",
    "\n",
    "plt.show() # display the plot"
   ]
  },
  {
   "cell_type": "code",
   "execution_count": 110,
   "id": "dc6a36e4",
   "metadata": {},
   "outputs": [],
   "source": [
    "#predict the y variable for all x variables\n",
    "Y_proba_LR = logreg.predict_proba(X)[::,1]"
   ]
  },
  {
   "cell_type": "code",
   "execution_count": 108,
   "id": "2e802f66",
   "metadata": {},
   "outputs": [],
   "source": [
    "df_prob = pd.DataFrame(Y_proba_LR, columns = ['LR_prob_Y'])\n",
    "df_prob1 = pd.concat([a, df_prob], axis=1)\n",
    "df_prob1.to_csv('Y_prob_LR.csv')"
   ]
  },
  {
   "cell_type": "code",
   "execution_count": 109,
   "id": "96750e83",
   "metadata": {},
   "outputs": [],
   "source": [
    "Y_proba_NBC = gnb.predict_proba(X)[::,1]\n",
    "df_prob2 = pd.DataFrame(Y_proba_NBC, columns = ['NBC_prob_Y'])\n",
    "df_prob3 = pd.concat([a, df_prob2], axis=1)\n",
    "df_prob3.to_csv('Y_prob_NBC.csv')"
   ]
  },
  {
   "cell_type": "code",
   "execution_count": null,
   "id": "af0303d4",
   "metadata": {},
   "outputs": [],
   "source": []
  }
 ],
 "metadata": {
  "kernelspec": {
   "display_name": "Python 3 (ipykernel)",
   "language": "python",
   "name": "python3"
  },
  "language_info": {
   "codemirror_mode": {
    "name": "ipython",
    "version": 3
   },
   "file_extension": ".py",
   "mimetype": "text/x-python",
   "name": "python",
   "nbconvert_exporter": "python",
   "pygments_lexer": "ipython3",
   "version": "3.9.13"
  }
 },
 "nbformat": 4,
 "nbformat_minor": 5
}
