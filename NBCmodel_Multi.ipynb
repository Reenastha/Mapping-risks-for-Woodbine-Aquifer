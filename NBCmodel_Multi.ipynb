{
 "cells": [
  {
   "cell_type": "code",
   "execution_count": 4,
   "id": "f4a638b2",
   "metadata": {},
   "outputs": [],
   "source": [
    "import numpy as np\n",
    "import pandas as pd\n",
    "import matplotlib.pyplot as plt"
   ]
  },
  {
   "cell_type": "code",
   "execution_count": 5,
   "id": "6f922d53",
   "metadata": {},
   "outputs": [
    {
     "name": "stdout",
     "output_type": "stream",
     "text": [
      "<class 'pandas.core.frame.DataFrame'>\n",
      "RangeIndex: 268 entries, 0 to 267\n",
      "Data columns (total 27 columns):\n",
      " #   Column          Non-Null Count  Dtype  \n",
      "---  ------          --------------  -----  \n",
      " 0   Unnamed: 0      268 non-null    int64  \n",
      " 1   StateWellN      268 non-null    int64  \n",
      " 2   StateWel_1      268 non-null    int64  \n",
      " 3   LatitudeDD      268 non-null    float64\n",
      " 4   Dlat            268 non-null    int64  \n",
      " 5   Mlat            268 non-null    int64  \n",
      " 6   Slat            268 non-null    float64\n",
      " 7   LongitudeD      268 non-null    float64\n",
      " 8   Dlong           268 non-null    int64  \n",
      " 9   Mlong           268 non-null    int64  \n",
      " 10  Slong           268 non-null    float64\n",
      " 11  TDS_mg/L        268 non-null    float64\n",
      " 12  WellDepth       268 non-null    int64  \n",
      " 13  SAR             268 non-null    float64\n",
      " 14  Hardness_mg/L   268 non-null    float64\n",
      " 15  Calcium_mg/L    268 non-null    float64\n",
      " 16  Magnesium_mg/L  268 non-null    float64\n",
      " 17  Sulfate_mg/L    268 non-null    float64\n",
      " 18  Chloride_mg/L   268 non-null    float64\n",
      " 19  Fluoride_mg/L   268 non-null    float64\n",
      " 20  pH              268 non-null    float64\n",
      " 21  Texture_SSURGO  268 non-null    object \n",
      " 22  Texture_Num     268 non-null    int64  \n",
      " 23  Clay_SSURGO     268 non-null    float64\n",
      " 24  SAR_SSURGO      268 non-null    int64  \n",
      " 25  EC_SSURGO       268 non-null    float64\n",
      " 26  label           268 non-null    int64  \n",
      "dtypes: float64(15), int64(11), object(1)\n",
      "memory usage: 56.7+ KB\n"
     ]
    }
   ],
   "source": [
    "# Define filepath\n",
    "filepath = 'C:/Users/mengj/OneDrive - lamar.edu/LectureNote2023/MLforCivilEng/TeamProject2/WoodbineData_label2.xlsx'\n",
    "\n",
    "df = pd.read_excel(filepath)\n",
    "df.info()"
   ]
  },
  {
   "cell_type": "markdown",
   "id": "56572dbd",
   "metadata": {},
   "source": [
    "## use all variables"
   ]
  },
  {
   "cell_type": "code",
   "execution_count": 6,
   "id": "e689ca0f",
   "metadata": {
    "scrolled": true
   },
   "outputs": [
    {
     "name": "stdout",
     "output_type": "stream",
     "text": [
      "Index(['TDS_mg/L', 'WellDepth', 'SAR', 'Hardness_mg/L', 'Calcium_mg/L',\n",
      "       'Magnesium_mg/L', 'Sulfate_mg/L', 'Chloride_mg/L', 'pH', 'Texture_Num',\n",
      "       'Clay_SSURGO', 'SAR_SSURGO', 'EC_SSURGO'],\n",
      "      dtype='object')\n"
     ]
    },
    {
     "name": "stderr",
     "output_type": "stream",
     "text": [
      "C:\\Users\\mengj\\AppData\\Local\\Temp\\ipykernel_5656\\974104129.py:3: SettingWithCopyWarning: \n",
      "A value is trying to be set on a copy of a slice from a DataFrame\n",
      "\n",
      "See the caveats in the documentation: https://pandas.pydata.org/pandas-docs/stable/user_guide/indexing.html#returning-a-view-versus-a-copy\n",
      "  X.drop(['Fluoride_mg/L','Texture_SSURGO'], axis=1, inplace=True)\n"
     ]
    }
   ],
   "source": [
    "# set X, y\n",
    "X = df[df.columns[11:26]]\n",
    "X.drop(['Fluoride_mg/L','Texture_SSURGO'], axis=1, inplace=True)\n",
    "print(X.columns)\n",
    "y = df['label']"
   ]
  },
  {
   "cell_type": "code",
   "execution_count": 7,
   "id": "9be8e8e5",
   "metadata": {},
   "outputs": [
    {
     "data": {
      "text/plain": [
       "array([[0.07073126, 0.35879144, 0.21118793, ..., 0.75609756, 0.14285714,\n",
       "        1.        ],\n",
       "       [0.11776263, 0.43096937, 0.24245757, ..., 0.75609756, 0.14285714,\n",
       "        1.        ],\n",
       "       [0.0319273 , 0.42173731, 0.21280417, ..., 0.75609756, 0.14285714,\n",
       "        1.        ],\n",
       "       ...,\n",
       "       [0.08571253, 0.07679396, 0.18622609, ..., 0.02439024, 0.        ,\n",
       "        0.        ],\n",
       "       [0.05771474, 0.05916911, 0.03133698, ..., 0.02439024, 0.        ,\n",
       "        0.        ],\n",
       "       [0.12334991, 0.07679396, 0.11432612, ..., 0.02439024, 0.        ,\n",
       "        0.        ]])"
      ]
     },
     "execution_count": 7,
     "metadata": {},
     "output_type": "execute_result"
    }
   ],
   "source": [
    "# feature scaling\n",
    "from sklearn.preprocessing import MinMaxScaler\n",
    "scaler = MinMaxScaler((0,1))\n",
    "X_scaled = scaler.fit_transform(X)\n",
    "X_scaled"
   ]
  },
  {
   "cell_type": "code",
   "execution_count": 8,
   "id": "7ec3fe69",
   "metadata": {},
   "outputs": [],
   "source": [
    "# split training and test sets\n",
    "from sklearn.model_selection import train_test_split\n",
    "X_train, X_test, y_train, y_test = train_test_split(X_scaled, y, test_size=0.3, random_state=42)"
   ]
  },
  {
   "cell_type": "code",
   "execution_count": 9,
   "id": "f71e1cf7",
   "metadata": {},
   "outputs": [
    {
     "name": "stdout",
     "output_type": "stream",
     "text": [
      "187 81\n"
     ]
    }
   ],
   "source": [
    "print(len(X_train), len(X_test))"
   ]
  },
  {
   "cell_type": "code",
   "execution_count": 10,
   "id": "3c81acf2",
   "metadata": {},
   "outputs": [
    {
     "name": "stdout",
     "output_type": "stream",
     "text": [
      "242    1\n",
      "190    1\n",
      "142    0\n",
      "125    0\n",
      "192    0\n",
      "      ..\n",
      "20     1\n",
      "188    0\n",
      "71     0\n",
      "106    0\n",
      "102    0\n",
      "Name: label, Length: 187, dtype: int64\n"
     ]
    }
   ],
   "source": [
    "print(y_train)"
   ]
  },
  {
   "cell_type": "code",
   "execution_count": 11,
   "id": "3def982e",
   "metadata": {},
   "outputs": [
    {
     "name": "stdout",
     "output_type": "stream",
     "text": [
      "115    0\n",
      "213    0\n",
      "22     1\n",
      "132    0\n",
      "117    1\n",
      "      ..\n",
      "101    0\n",
      "193    0\n",
      "38     0\n",
      "257    0\n",
      "109    0\n",
      "Name: label, Length: 81, dtype: int64\n"
     ]
    }
   ],
   "source": [
    "print(y_test)"
   ]
  },
  {
   "cell_type": "markdown",
   "id": "96e15354",
   "metadata": {},
   "source": [
    "## Multinomial Naive Bayes classifier"
   ]
  },
  {
   "cell_type": "code",
   "execution_count": 12,
   "id": "3fb4d938",
   "metadata": {},
   "outputs": [],
   "source": [
    "from sklearn.naive_bayes import MultinomialNB\n",
    "\n",
    "# try default hyperparameters\n",
    "model = MultinomialNB()"
   ]
  },
  {
   "cell_type": "code",
   "execution_count": 13,
   "id": "5d06a644",
   "metadata": {},
   "outputs": [
    {
     "data": {
      "text/plain": [
       "{'alpha': 1.0, 'class_prior': None, 'fit_prior': True}"
      ]
     },
     "execution_count": 13,
     "metadata": {},
     "output_type": "execute_result"
    }
   ],
   "source": [
    "model.get_params(deep=True)"
   ]
  },
  {
   "cell_type": "markdown",
   "id": "9e311055",
   "metadata": {},
   "source": [
    "In sklearn API the model has four parameters: alpha, force_alpha, fit_prior, class_prior.\n",
    "But when we set them there is an error said \"force_alpha\" parameter should not be put in this model."
   ]
  },
  {
   "cell_type": "code",
   "execution_count": 14,
   "id": "f40036e4",
   "metadata": {},
   "outputs": [],
   "source": [
    "model.fit(X_train, y_train)\n",
    "y_pred = model.predict(X_test)"
   ]
  },
  {
   "cell_type": "markdown",
   "id": "afb1ecf6",
   "metadata": {},
   "source": [
    "Evaluate the performance of the model"
   ]
  },
  {
   "cell_type": "code",
   "execution_count": 15,
   "id": "e0a5b712",
   "metadata": {},
   "outputs": [],
   "source": [
    "from sklearn.metrics import (\n",
    "    accuracy_score,\n",
    "    f1_score,\n",
    "    confusion_matrix,\n",
    "    ConfusionMatrixDisplay\n",
    ")"
   ]
  },
  {
   "cell_type": "code",
   "execution_count": 16,
   "id": "cd02ffad",
   "metadata": {},
   "outputs": [
    {
     "name": "stdout",
     "output_type": "stream",
     "text": [
      "0.7777777777777778\n"
     ]
    }
   ],
   "source": [
    "# accuracy score\n",
    "accur = accuracy_score(y_pred, y_test)\n",
    "print(accur)"
   ]
  },
  {
   "cell_type": "code",
   "execution_count": 17,
   "id": "10b0b9fb",
   "metadata": {},
   "outputs": [
    {
     "name": "stdout",
     "output_type": "stream",
     "text": [
      "0.8544011544011544\n"
     ]
    }
   ],
   "source": [
    "f1 = f1_score(y_pred, y_test, average=\"weighted\")\n",
    "print(f1)"
   ]
  },
  {
   "cell_type": "code",
   "execution_count": 18,
   "id": "2cf4a286",
   "metadata": {},
   "outputs": [
    {
     "data": {
      "image/png": "[encoded data removed]",
      "text/plain": [
       "<Figure size 640x480 with 2 Axes>"
      ]
     },
     "metadata": {},
     "output_type": "display_data"
    }
   ],
   "source": [
    "# The confusion matrix\n",
    "labels = [0,1]\n",
    "cm = confusion_matrix(y_test, y_pred, labels=labels)\n",
    "disp = ConfusionMatrixDisplay(confusion_matrix=cm, display_labels=labels)\n",
    "disp.plot();"
   ]
  },
  {
   "cell_type": "code",
   "execution_count": null,
   "id": "66a3ca5a",
   "metadata": {},
   "outputs": [],
   "source": []
  },
  {
   "cell_type": "markdown",
   "id": "a08d87c9",
   "metadata": {},
   "source": [
    "## Optimize NBC model with optuma"
   ]
  },
  {
   "cell_type": "code",
   "execution_count": 19,
   "id": "281383ba",
   "metadata": {},
   "outputs": [],
   "source": [
    "import optuna"
   ]
  },
  {
   "cell_type": "code",
   "execution_count": 20,
   "id": "8a491a93",
   "metadata": {
    "scrolled": true
   },
   "outputs": [
    {
     "name": "stderr",
     "output_type": "stream",
     "text": [
      "\u001b[32m[I 2023-03-10 20:41:43,177]\u001b[0m A new study created in memory with name: no-name-a2488454-64bd-4a34-952c-90ae38230ebb\u001b[0m\n",
      "\u001b[32m[I 2023-03-10 20:41:43,196]\u001b[0m Trial 0 finished with value: 0.7530864197530864 and parameters: {'alpha': 108.82163156761457, 'fit_prior': True}. Best is trial 0 with value: 0.7530864197530864.\u001b[0m\n"
     ]
    },
    {
     "name": "stdout",
     "output_type": "stream",
     "text": [
      "Current value: 0.7530864197530864, Current params: {'alpha': 108.82163156761457, 'fit_prior': True}\n",
      "Best value: 0.7530864197530864, Best params: {'alpha': 108.82163156761457, 'fit_prior': True}\n"
     ]
    }
   ],
   "source": [
    "# define objective function\n",
    "def objective(trial):\n",
    "    # select hyperparameters to optimize\n",
    "    alpha = trial.suggest_float(\"alpha\", 0.0, 200.0)\n",
    "    fit_prior = trial.suggest_categorical(\"fit_prior\", [True, False])\n",
    "\n",
    "    # build the model\n",
    "    model = MultinomialNB(alpha=alpha, fit_prior=fit_prior, class_prior=None)\n",
    "\n",
    "    # train the model\n",
    "    model.fit(X_train, y_train)\n",
    "\n",
    "    # Evaluate how good it is on the test set\n",
    "    y_pred = model.predict(X_test)\n",
    "    accur = accuracy_score(y_pred, y_test)\n",
    "    #f1 = f1_score(y_pred, y_test, average=\"weighted\")\n",
    "\n",
    "    return accur if accur != np.nan else float(\"inf\")\n",
    "\n",
    "# for convenience, print some optimization trials information\n",
    "def print_callback(study, trial):\n",
    "    print(f\"Current value: {trial.value}, Current params: {trial.params}\")\n",
    "    print(f\"Best value: {study.best_value}, Best params: {study.best_trial.params}\")\n",
    "\n",
    "\n",
    "# optimize hyperparameters by maximize the accuracy on the test set\n",
    "study = optuna.create_study(direction=\"minimize\")\n",
    "study.optimize(objective, n_trials=1, callbacks=[print_callback])"
   ]
  },
  {
   "cell_type": "code",
   "execution_count": 21,
   "id": "2905ad29",
   "metadata": {},
   "outputs": [],
   "source": [
    "model_opti = MultinomialNB(alpha=137.12038496485422, fit_prior=True, class_prior=None)\n",
    "model_opti.fit(X_train, y_train)\n",
    "y_pred_opti = model.predict(X_test)"
   ]
  },
  {
   "cell_type": "code",
   "execution_count": 22,
   "id": "c03824d4",
   "metadata": {
    "scrolled": false
   },
   "outputs": [
    {
     "data": {
      "text/plain": [
       "<sklearn.metrics._plot.confusion_matrix.ConfusionMatrixDisplay at 0x24c1b632190>"
      ]
     },
     "execution_count": 22,
     "metadata": {},
     "output_type": "execute_result"
    },
    {
     "data": {
      "image/png": "[encoded data removed]",
      "text/plain": [
       "<Figure size 640x480 with 2 Axes>"
      ]
     },
     "metadata": {},
     "output_type": "display_data"
    }
   ],
   "source": [
    "# The confusion matrix\n",
    "labels = [0,1]\n",
    "cm = confusion_matrix(y_test, y_pred_opti, labels=labels)\n",
    "disp = ConfusionMatrixDisplay(confusion_matrix=cm, display_labels=labels)\n",
    "disp.plot()"
   ]
  },
  {
   "cell_type": "code",
   "execution_count": null,
   "id": "c1b1b658",
   "metadata": {},
   "outputs": [],
   "source": []
  },
  {
   "cell_type": "markdown",
   "id": "0bcd49fe",
   "metadata": {},
   "source": [
    "## select variables according to MI"
   ]
  },
  {
   "cell_type": "code",
   "execution_count": 23,
   "id": "9b53d689",
   "metadata": {},
   "outputs": [],
   "source": [
    "# set X, y\n",
    "X = df[['TDS_mg/L','WellDepth','SAR','Hardness_mg/L','Sulfate_mg/L','Chloride_mg/L','EC_SSURGO']]\n",
    "y = df['label']\n",
    "\n",
    "# feature scaling\n",
    "from sklearn.preprocessing import MinMaxScaler\n",
    "scaler = MinMaxScaler((0,1))\n",
    "X_scaled = scaler.fit_transform(X)\n",
    "\n",
    "# split training and test sets\n",
    "from sklearn.model_selection import train_test_split\n",
    "X_train, X_test, y_train, y_test = train_test_split(X_scaled, y, test_size=0.3, random_state=42)"
   ]
  },
  {
   "cell_type": "code",
   "execution_count": 24,
   "id": "7451619c",
   "metadata": {},
   "outputs": [],
   "source": [
    "# try default hyperparameters\n",
    "model = MultinomialNB()\n",
    "model.fit(X_train, y_train)\n",
    "y_pred = model.predict(X_test)"
   ]
  },
  {
   "cell_type": "code",
   "execution_count": 25,
   "id": "e4aeaca3",
   "metadata": {},
   "outputs": [
    {
     "name": "stdout",
     "output_type": "stream",
     "text": [
      "0.7654320987654321\n"
     ]
    }
   ],
   "source": [
    "# accuracy score\n",
    "accur = accuracy_score(y_pred, y_test)\n",
    "print(accur)"
   ]
  },
  {
   "cell_type": "code",
   "execution_count": 26,
   "id": "e4b41928",
   "metadata": {},
   "outputs": [
    {
     "data": {
      "text/plain": [
       "<sklearn.metrics._plot.confusion_matrix.ConfusionMatrixDisplay at 0x24c1a50ed00>"
      ]
     },
     "execution_count": 26,
     "metadata": {},
     "output_type": "execute_result"
    },
    {
     "data": {
      "image/png": "[encoded data removed]",
      "text/plain": [
       "<Figure size 640x480 with 2 Axes>"
      ]
     },
     "metadata": {},
     "output_type": "display_data"
    }
   ],
   "source": [
    "# The confusion matrix\n",
    "labels = [0,1]\n",
    "cm = confusion_matrix(y_test, y_pred, labels=labels)\n",
    "disp = ConfusionMatrixDisplay(confusion_matrix=cm, display_labels=labels)\n",
    "disp.plot()"
   ]
  },
  {
   "cell_type": "code",
   "execution_count": 29,
   "id": "da9c0f8a",
   "metadata": {
    "scrolled": true
   },
   "outputs": [
    {
     "name": "stderr",
     "output_type": "stream",
     "text": [
      "\u001b[32m[I 2023-03-10 20:45:34,845]\u001b[0m A new study created in memory with name: no-name-fd2b123e-65fa-49a4-8601-d4c7ad26262f\u001b[0m\n",
      "\u001b[32m[I 2023-03-10 20:45:34,871]\u001b[0m Trial 0 finished with value: 0.6790123456790124 and parameters: {'alpha': 171.51137943498668, 'fit_prior': False}. Best is trial 0 with value: 0.6790123456790124.\u001b[0m\n"
     ]
    },
    {
     "name": "stdout",
     "output_type": "stream",
     "text": [
      "Current value: 0.6790123456790124, Current params: {'alpha': 171.51137943498668, 'fit_prior': False}\n",
      "Best value: 0.6790123456790124, Best params: {'alpha': 171.51137943498668, 'fit_prior': False}\n"
     ]
    }
   ],
   "source": [
    "# define objective function\n",
    "def objective(trial):\n",
    "    # select hyperparameters to optimize\n",
    "    alpha = trial.suggest_float(\"alpha\", 0.0, 200.0)\n",
    "    fit_prior = trial.suggest_categorical(\"fit_prior\", [True, False])\n",
    "\n",
    "    # build the model\n",
    "    model = MultinomialNB(alpha=alpha, fit_prior=fit_prior, class_prior=None)\n",
    "\n",
    "    # train the model\n",
    "    model.fit(X_train, y_train)\n",
    "\n",
    "    # Evaluate how good it is on the test set\n",
    "    y_pred = model.predict(X_test)\n",
    "    accur = accuracy_score(y_pred, y_test)\n",
    "    #f1 = f1_score(y_pred, y_test, average=\"weighted\")\n",
    "\n",
    "    return accur if accur != np.nan else float(\"inf\")\n",
    "\n",
    "# for convenience, print some optimization trials information\n",
    "def print_callback(study, trial):\n",
    "    print(f\"Current value: {trial.value}, Current params: {trial.params}\")\n",
    "    print(f\"Best value: {study.best_value}, Best params: {study.best_trial.params}\")\n",
    "\n",
    "\n",
    "# optimize hyperparameters by maximize the accuracy on the test set\n",
    "study = optuna.create_study(direction=\"minimize\")\n",
    "study.optimize(objective, n_trials=1, callbacks=[print_callback])"
   ]
  },
  {
   "cell_type": "code",
   "execution_count": 30,
   "id": "06295333",
   "metadata": {},
   "outputs": [
    {
     "data": {
      "text/plain": [
       "<sklearn.metrics._plot.confusion_matrix.ConfusionMatrixDisplay at 0x24c1b648dc0>"
      ]
     },
     "execution_count": 30,
     "metadata": {},
     "output_type": "execute_result"
    },
    {
     "data": {
      "image/png": "[encoded data removed]",
      "text/plain": [
       "<Figure size 640x480 with 2 Axes>"
      ]
     },
     "metadata": {},
     "output_type": "display_data"
    }
   ],
   "source": [
    "model_opti = MultinomialNB(alpha=171.51137943498668, fit_prior=False, class_prior=None)\n",
    "model_opti.fit(X_train, y_train)\n",
    "y_pred_opti = model.predict(X_test)\n",
    "# The confusion matrix\n",
    "labels = [0,1]\n",
    "cm = confusion_matrix(y_test, y_pred_opti, labels=labels)\n",
    "disp = ConfusionMatrixDisplay(confusion_matrix=cm, display_labels=labels)\n",
    "disp.plot()"
   ]
  },
  {
   "cell_type": "code",
   "execution_count": null,
   "id": "7531f070",
   "metadata": {},
   "outputs": [],
   "source": []
  }
 ],
 "metadata": {
  "kernelspec": {
   "display_name": "Python 3 (ipykernel)",
   "language": "python",
   "name": "python3"
  },
  "language_info": {
   "codemirror_mode": {
    "name": "ipython",
    "version": 3
   },
   "file_extension": ".py",
   "mimetype": "text/x-python",
   "name": "python",
   "nbconvert_exporter": "python",
   "pygments_lexer": "ipython3",
   "version": "3.9.13"
  }
 },
 "nbformat": 4,
 "nbformat_minor": 5
}
