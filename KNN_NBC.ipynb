{
 "cells": [
  {
   "cell_type": "markdown",
   "id": "34830ec3",
   "metadata": {},
   "source": [
    "# import libraries"
   ]
  },
  {
   "cell_type": "code",
   "execution_count": 1,
   "id": "a777d28f",
   "metadata": {},
   "outputs": [],
   "source": [
    "import numpy as np\n",
    "import matplotlib.pyplot as plt\n",
    "import pandas as pd\n",
    "import seaborn as sns"
   ]
  },
  {
   "cell_type": "markdown",
   "id": "9714e889",
   "metadata": {},
   "source": [
    "# importing the dataset"
   ]
  },
  {
   "cell_type": "code",
   "execution_count": 51,
   "id": "50aab2db",
   "metadata": {
    "scrolled": false
   },
   "outputs": [
    {
     "name": "stdout",
     "output_type": "stream",
     "text": [
      "<class 'pandas.core.frame.DataFrame'>\n",
      "RangeIndex: 1455 entries, 0 to 1454\n",
      "Data columns (total 18 columns):\n",
      " #   Column         Non-Null Count  Dtype  \n",
      "---  ------         --------------  -----  \n",
      " 0   id             937 non-null    float64\n",
      " 1   left           937 non-null    float64\n",
      " 2   top            937 non-null    float64\n",
      " 3   right          937 non-null    float64\n",
      " 4   bottom         937 non-null    float64\n",
      " 5   _mean          937 non-null    float64\n",
      " 6   Chlorideme     937 non-null    float64\n",
      " 7   Fluorideme     937 non-null    float64\n",
      " 8   Hardnessme     937 non-null    float64\n",
      " 9   SARmean        937 non-null    float64\n",
      " 10  Sulfatemea     937 non-null    float64\n",
      " 11  TDSmean        937 non-null    float64\n",
      " 12  WellDepthm     937 non-null    float64\n",
      " 13  Joined lay     937 non-null    float64\n",
      " 14  LR_prob_Y      157 non-null    float64\n",
      " 15  NBC_prob_Y     157 non-null    float64\n",
      " 16  LR_pred_Y      157 non-null    float64\n",
      " 17  label_NBCpred  157 non-null    float64\n",
      "dtypes: float64(18)\n",
      "memory usage: 204.7 KB\n"
     ]
    }
   ],
   "source": [
    "filepath = 'C:/Users/mengj/OneDrive - lamar.edu/LectureNote2023/MLforCivilEng/TeamProject2/Grid_join_all_v4.csv'\n",
    "dataset = pd.read_csv(filepath)\n",
    "dataset.info()"
   ]
  },
  {
   "cell_type": "code",
   "execution_count": 77,
   "id": "de4a18bc",
   "metadata": {},
   "outputs": [
    {
     "name": "stdout",
     "output_type": "stream",
     "text": [
      "<class 'pandas.core.frame.DataFrame'>\n",
      "Int64Index: 937 entries, 0 to 936\n",
      "Data columns (total 18 columns):\n",
      " #   Column         Non-Null Count  Dtype  \n",
      "---  ------         --------------  -----  \n",
      " 0   id             937 non-null    float64\n",
      " 1   left           937 non-null    float64\n",
      " 2   top            937 non-null    float64\n",
      " 3   right          937 non-null    float64\n",
      " 4   bottom         937 non-null    float64\n",
      " 5   _mean          937 non-null    float64\n",
      " 6   Chlorideme     937 non-null    float64\n",
      " 7   Fluorideme     937 non-null    float64\n",
      " 8   Hardnessme     937 non-null    float64\n",
      " 9   SARmean        937 non-null    float64\n",
      " 10  Sulfatemea     937 non-null    float64\n",
      " 11  TDSmean        937 non-null    float64\n",
      " 12  WellDepthm     937 non-null    float64\n",
      " 13  Joined lay     937 non-null    float64\n",
      " 14  LR_prob_Y      157 non-null    float64\n",
      " 15  NBC_prob_Y     157 non-null    float64\n",
      " 16  LR_pred_Y      157 non-null    float64\n",
      " 17  label_NBCpred  157 non-null    float64\n",
      "dtypes: float64(18)\n",
      "memory usage: 139.1 KB\n"
     ]
    }
   ],
   "source": [
    "dataset.dropna(how='all', axis=0, inplace=True)\n",
    "dataset.info()"
   ]
  },
  {
   "cell_type": "code",
   "execution_count": 78,
   "id": "64e945f8",
   "metadata": {
    "scrolled": false
   },
   "outputs": [
    {
     "name": "stdout",
     "output_type": "stream",
     "text": [
      "<class 'pandas.core.frame.DataFrame'>\n",
      "Int64Index: 937 entries, 0 to 936\n",
      "Data columns (total 6 columns):\n",
      " #   Column         Non-Null Count  Dtype  \n",
      "---  ------         --------------  -----  \n",
      " 0   id             937 non-null    float64\n",
      " 1   left           937 non-null    float64\n",
      " 2   top            937 non-null    float64\n",
      " 3   right          937 non-null    float64\n",
      " 4   bottom         937 non-null    float64\n",
      " 5   label_NBCpred  157 non-null    float64\n",
      "dtypes: float64(6)\n",
      "memory usage: 51.2 KB\n"
     ]
    }
   ],
   "source": [
    "df = dataset[['id','left','top','right','bottom','label_NBCpred']]\n",
    "df.info()"
   ]
  },
  {
   "cell_type": "code",
   "execution_count": 79,
   "id": "fa5418b0",
   "metadata": {},
   "outputs": [
    {
     "data": {
      "text/html": [
       "<div>\n",
       "<style scoped>\n",
       "    .dataframe tbody tr th:only-of-type {\n",
       "        vertical-align: middle;\n",
       "    }\n",
       "\n",
       "    .dataframe tbody tr th {\n",
       "        vertical-align: top;\n",
       "    }\n",
       "\n",
       "    .dataframe thead th {\n",
       "        text-align: right;\n",
       "    }\n",
       "</style>\n",
       "<table border=\"1\" class=\"dataframe\">\n",
       "  <thead>\n",
       "    <tr style=\"text-align: right;\">\n",
       "      <th></th>\n",
       "      <th>id</th>\n",
       "      <th>left</th>\n",
       "      <th>top</th>\n",
       "      <th>right</th>\n",
       "      <th>bottom</th>\n",
       "      <th>label_NBCpred</th>\n",
       "    </tr>\n",
       "  </thead>\n",
       "  <tbody>\n",
       "    <tr>\n",
       "      <th>0</th>\n",
       "      <td>1.0</td>\n",
       "      <td>-18545.2946</td>\n",
       "      <td>1196517.033</td>\n",
       "      <td>-13717.262600</td>\n",
       "      <td>1191689.001</td>\n",
       "      <td>NaN</td>\n",
       "    </tr>\n",
       "    <tr>\n",
       "      <th>1</th>\n",
       "      <td>2.0</td>\n",
       "      <td>-18545.2946</td>\n",
       "      <td>1191689.001</td>\n",
       "      <td>-13717.262600</td>\n",
       "      <td>1186860.969</td>\n",
       "      <td>NaN</td>\n",
       "    </tr>\n",
       "    <tr>\n",
       "      <th>2</th>\n",
       "      <td>3.0</td>\n",
       "      <td>-13717.2626</td>\n",
       "      <td>1201345.065</td>\n",
       "      <td>-8889.230595</td>\n",
       "      <td>1196517.033</td>\n",
       "      <td>NaN</td>\n",
       "    </tr>\n",
       "    <tr>\n",
       "      <th>3</th>\n",
       "      <td>4.0</td>\n",
       "      <td>-13717.2626</td>\n",
       "      <td>1196517.033</td>\n",
       "      <td>-8889.230595</td>\n",
       "      <td>1191689.001</td>\n",
       "      <td>NaN</td>\n",
       "    </tr>\n",
       "    <tr>\n",
       "      <th>4</th>\n",
       "      <td>5.0</td>\n",
       "      <td>-13717.2626</td>\n",
       "      <td>1191689.001</td>\n",
       "      <td>-8889.230595</td>\n",
       "      <td>1186860.969</td>\n",
       "      <td>1.0</td>\n",
       "    </tr>\n",
       "  </tbody>\n",
       "</table>\n",
       "</div>"
      ],
      "text/plain": [
       "    id        left          top         right       bottom  label_NBCpred\n",
       "0  1.0 -18545.2946  1196517.033 -13717.262600  1191689.001            NaN\n",
       "1  2.0 -18545.2946  1191689.001 -13717.262600  1186860.969            NaN\n",
       "2  3.0 -13717.2626  1201345.065  -8889.230595  1196517.033            NaN\n",
       "3  4.0 -13717.2626  1196517.033  -8889.230595  1191689.001            NaN\n",
       "4  5.0 -13717.2626  1191689.001  -8889.230595  1186860.969            1.0"
      ]
     },
     "execution_count": 79,
     "metadata": {},
     "output_type": "execute_result"
    }
   ],
   "source": [
    "df.head(5)"
   ]
  },
  {
   "cell_type": "code",
   "execution_count": 80,
   "id": "cd365325",
   "metadata": {},
   "outputs": [
    {
     "name": "stdout",
     "output_type": "stream",
     "text": [
      "<class 'pandas.core.frame.DataFrame'>\n",
      "Int64Index: 157 entries, 4 to 883\n",
      "Data columns (total 6 columns):\n",
      " #   Column         Non-Null Count  Dtype  \n",
      "---  ------         --------------  -----  \n",
      " 0   id             157 non-null    float64\n",
      " 1   left           157 non-null    float64\n",
      " 2   top            157 non-null    float64\n",
      " 3   right          157 non-null    float64\n",
      " 4   bottom         157 non-null    float64\n",
      " 5   label_NBCpred  157 non-null    float64\n",
      "dtypes: float64(6)\n",
      "memory usage: 8.6 KB\n"
     ]
    }
   ],
   "source": [
    "df_train = df.dropna(axis=0)\n",
    "df_train.info()"
   ]
  },
  {
   "cell_type": "code",
   "execution_count": 81,
   "id": "c17ed0ba",
   "metadata": {},
   "outputs": [
    {
     "data": {
      "text/html": [
       "<div>\n",
       "<style scoped>\n",
       "    .dataframe tbody tr th:only-of-type {\n",
       "        vertical-align: middle;\n",
       "    }\n",
       "\n",
       "    .dataframe tbody tr th {\n",
       "        vertical-align: top;\n",
       "    }\n",
       "\n",
       "    .dataframe thead th {\n",
       "        text-align: right;\n",
       "    }\n",
       "</style>\n",
       "<table border=\"1\" class=\"dataframe\">\n",
       "  <thead>\n",
       "    <tr style=\"text-align: right;\">\n",
       "      <th></th>\n",
       "      <th>id</th>\n",
       "      <th>left</th>\n",
       "      <th>top</th>\n",
       "      <th>right</th>\n",
       "      <th>bottom</th>\n",
       "      <th>label_NBCpred</th>\n",
       "    </tr>\n",
       "  </thead>\n",
       "  <tbody>\n",
       "    <tr>\n",
       "      <th>4</th>\n",
       "      <td>5.0</td>\n",
       "      <td>-13717.2626</td>\n",
       "      <td>1191689.001</td>\n",
       "      <td>-8889.230595</td>\n",
       "      <td>1186860.969</td>\n",
       "      <td>1.0</td>\n",
       "    </tr>\n",
       "    <tr>\n",
       "      <th>117</th>\n",
       "      <td>118.0</td>\n",
       "      <td>-119933.9666</td>\n",
       "      <td>1027535.913</td>\n",
       "      <td>-115105.934600</td>\n",
       "      <td>1022707.881</td>\n",
       "      <td>0.0</td>\n",
       "    </tr>\n",
       "    <tr>\n",
       "      <th>134</th>\n",
       "      <td>135.0</td>\n",
       "      <td>-115105.9346</td>\n",
       "      <td>1099956.393</td>\n",
       "      <td>-110277.902600</td>\n",
       "      <td>1095128.361</td>\n",
       "      <td>0.0</td>\n",
       "    </tr>\n",
       "    <tr>\n",
       "      <th>135</th>\n",
       "      <td>136.0</td>\n",
       "      <td>-115105.9346</td>\n",
       "      <td>1095128.361</td>\n",
       "      <td>-110277.902600</td>\n",
       "      <td>1090300.329</td>\n",
       "      <td>0.0</td>\n",
       "    </tr>\n",
       "    <tr>\n",
       "      <th>138</th>\n",
       "      <td>139.0</td>\n",
       "      <td>-115105.9346</td>\n",
       "      <td>1080644.265</td>\n",
       "      <td>-110277.902600</td>\n",
       "      <td>1075816.233</td>\n",
       "      <td>0.0</td>\n",
       "    </tr>\n",
       "  </tbody>\n",
       "</table>\n",
       "</div>"
      ],
      "text/plain": [
       "        id         left          top          right       bottom  \\\n",
       "4      5.0  -13717.2626  1191689.001   -8889.230595  1186860.969   \n",
       "117  118.0 -119933.9666  1027535.913 -115105.934600  1022707.881   \n",
       "134  135.0 -115105.9346  1099956.393 -110277.902600  1095128.361   \n",
       "135  136.0 -115105.9346  1095128.361 -110277.902600  1090300.329   \n",
       "138  139.0 -115105.9346  1080644.265 -110277.902600  1075816.233   \n",
       "\n",
       "     label_NBCpred  \n",
       "4              1.0  \n",
       "117            0.0  \n",
       "134            0.0  \n",
       "135            0.0  \n",
       "138            0.0  "
      ]
     },
     "execution_count": 81,
     "metadata": {},
     "output_type": "execute_result"
    }
   ],
   "source": [
    "df_train.head(5)"
   ]
  },
  {
   "cell_type": "code",
   "execution_count": 82,
   "id": "7c88a120-58a2-4b43-9c74-9db3f87326d3",
   "metadata": {},
   "outputs": [
    {
     "data": {
      "text/plain": [
       "<AxesSubplot:>"
      ]
     },
     "execution_count": 82,
     "metadata": {},
     "output_type": "execute_result"
    },
    {
     "data": {
      "image/png": "[encoded data removed]",
      "text/plain": [
       "<Figure size 640x480 with 1 Axes>"
      ]
     },
     "metadata": {},
     "output_type": "display_data"
    }
   ],
   "source": [
    "df_train['label_NBCpred'].value_counts().plot(kind = 'bar')"
   ]
  },
  {
   "cell_type": "code",
   "execution_count": 83,
   "id": "d7cae8b0",
   "metadata": {},
   "outputs": [],
   "source": [
    "X = df_train[df_train.columns[1:5]].copy()\n",
    "y = df_train['label_NBCpred'].copy()"
   ]
  },
  {
   "cell_type": "code",
   "execution_count": 84,
   "id": "40f589e1",
   "metadata": {},
   "outputs": [
    {
     "data": {
      "text/html": [
       "<div>\n",
       "<style scoped>\n",
       "    .dataframe tbody tr th:only-of-type {\n",
       "        vertical-align: middle;\n",
       "    }\n",
       "\n",
       "    .dataframe tbody tr th {\n",
       "        vertical-align: top;\n",
       "    }\n",
       "\n",
       "    .dataframe thead th {\n",
       "        text-align: right;\n",
       "    }\n",
       "</style>\n",
       "<table border=\"1\" class=\"dataframe\">\n",
       "  <thead>\n",
       "    <tr style=\"text-align: right;\">\n",
       "      <th></th>\n",
       "      <th>left</th>\n",
       "      <th>top</th>\n",
       "      <th>right</th>\n",
       "      <th>bottom</th>\n",
       "    </tr>\n",
       "  </thead>\n",
       "  <tbody>\n",
       "    <tr>\n",
       "      <th>4</th>\n",
       "      <td>-13717.262600</td>\n",
       "      <td>1191689.001</td>\n",
       "      <td>-8889.230595</td>\n",
       "      <td>1186860.969</td>\n",
       "    </tr>\n",
       "    <tr>\n",
       "      <th>117</th>\n",
       "      <td>-119933.966600</td>\n",
       "      <td>1027535.913</td>\n",
       "      <td>-115105.934600</td>\n",
       "      <td>1022707.881</td>\n",
       "    </tr>\n",
       "    <tr>\n",
       "      <th>134</th>\n",
       "      <td>-115105.934600</td>\n",
       "      <td>1099956.393</td>\n",
       "      <td>-110277.902600</td>\n",
       "      <td>1095128.361</td>\n",
       "    </tr>\n",
       "    <tr>\n",
       "      <th>135</th>\n",
       "      <td>-115105.934600</td>\n",
       "      <td>1095128.361</td>\n",
       "      <td>-110277.902600</td>\n",
       "      <td>1090300.329</td>\n",
       "    </tr>\n",
       "    <tr>\n",
       "      <th>138</th>\n",
       "      <td>-115105.934600</td>\n",
       "      <td>1080644.265</td>\n",
       "      <td>-110277.902600</td>\n",
       "      <td>1075816.233</td>\n",
       "    </tr>\n",
       "    <tr>\n",
       "      <th>...</th>\n",
       "      <td>...</td>\n",
       "      <td>...</td>\n",
       "      <td>...</td>\n",
       "      <td>...</td>\n",
       "    </tr>\n",
       "    <tr>\n",
       "      <th>855</th>\n",
       "      <td>-8889.230595</td>\n",
       "      <td>1167548.841</td>\n",
       "      <td>-4061.198595</td>\n",
       "      <td>1162720.809</td>\n",
       "    </tr>\n",
       "    <tr>\n",
       "      <th>857</th>\n",
       "      <td>-8889.230595</td>\n",
       "      <td>1157892.777</td>\n",
       "      <td>-4061.198595</td>\n",
       "      <td>1153064.745</td>\n",
       "    </tr>\n",
       "    <tr>\n",
       "      <th>866</th>\n",
       "      <td>-4061.198595</td>\n",
       "      <td>1167548.841</td>\n",
       "      <td>766.833405</td>\n",
       "      <td>1162720.809</td>\n",
       "    </tr>\n",
       "    <tr>\n",
       "      <th>881</th>\n",
       "      <td>5594.865405</td>\n",
       "      <td>1182032.937</td>\n",
       "      <td>10422.897400</td>\n",
       "      <td>1177204.905</td>\n",
       "    </tr>\n",
       "    <tr>\n",
       "      <th>883</th>\n",
       "      <td>5594.865405</td>\n",
       "      <td>1172376.873</td>\n",
       "      <td>10422.897400</td>\n",
       "      <td>1167548.841</td>\n",
       "    </tr>\n",
       "  </tbody>\n",
       "</table>\n",
       "<p>157 rows × 4 columns</p>\n",
       "</div>"
      ],
      "text/plain": [
       "              left          top          right       bottom\n",
       "4    -13717.262600  1191689.001   -8889.230595  1186860.969\n",
       "117 -119933.966600  1027535.913 -115105.934600  1022707.881\n",
       "134 -115105.934600  1099956.393 -110277.902600  1095128.361\n",
       "135 -115105.934600  1095128.361 -110277.902600  1090300.329\n",
       "138 -115105.934600  1080644.265 -110277.902600  1075816.233\n",
       "..             ...          ...            ...          ...\n",
       "855   -8889.230595  1167548.841   -4061.198595  1162720.809\n",
       "857   -8889.230595  1157892.777   -4061.198595  1153064.745\n",
       "866   -4061.198595  1167548.841     766.833405  1162720.809\n",
       "881    5594.865405  1182032.937   10422.897400  1177204.905\n",
       "883    5594.865405  1172376.873   10422.897400  1167548.841\n",
       "\n",
       "[157 rows x 4 columns]"
      ]
     },
     "execution_count": 84,
     "metadata": {},
     "output_type": "execute_result"
    }
   ],
   "source": [
    "X"
   ]
  },
  {
   "cell_type": "markdown",
   "id": "3ac7db82",
   "metadata": {},
   "source": [
    "# Training the K-NN model on the Training set"
   ]
  },
  {
   "cell_type": "code",
   "execution_count": 85,
   "id": "f51afc82-6351-464d-9c92-a82449d768ba",
   "metadata": {},
   "outputs": [
    {
     "data": {
      "text/plain": [
       "KNeighborsClassifier(n_neighbors=1)"
      ]
     },
     "execution_count": 85,
     "metadata": {},
     "output_type": "execute_result"
    }
   ],
   "source": [
    "from sklearn.neighbors import KNeighborsClassifier\n",
    "knn = KNeighborsClassifier(n_neighbors=1)\n",
    "knn.fit(X,y)"
   ]
  },
  {
   "cell_type": "code",
   "execution_count": 86,
   "id": "454c9d3d-17d0-439c-8399-96ccce7ea7b1",
   "metadata": {},
   "outputs": [
    {
     "name": "stderr",
     "output_type": "stream",
     "text": [
      "C:\\Users\\mengj\\anaconda3\\lib\\site-packages\\sklearn\\neighbors\\_classification.py:228: FutureWarning: Unlike other reduction functions (e.g. `skew`, `kurtosis`), the default behavior of `mode` typically preserves the axis it acts along. In SciPy 1.11.0, this behavior will change: the default value of `keepdims` will become False, the `axis` over which the statistic is taken will be eliminated, and the value None will no longer be accepted. Set `keepdims` to True or False to avoid this warning.\n",
      "  mode, _ = stats.mode(_y[neigh_ind, k], axis=1)\n"
     ]
    }
   ],
   "source": [
    "pred = knn.predict(X)"
   ]
  },
  {
   "cell_type": "code",
   "execution_count": 87,
   "id": "f9642487-58e7-4180-8a2b-da59e2a629cb",
   "metadata": {},
   "outputs": [],
   "source": [
    "from sklearn.metrics import (\n",
    "    accuracy_score,\n",
    "    confusion_matrix,\n",
    "    ConfusionMatrixDisplay,\n",
    "    roc_curve\n",
    ")"
   ]
  },
  {
   "cell_type": "code",
   "execution_count": 88,
   "id": "ecb55f91",
   "metadata": {},
   "outputs": [
    {
     "data": {
      "image/png": "[encoded data removed]",
      "text/plain": [
       "<Figure size 640x480 with 2 Axes>"
      ]
     },
     "metadata": {},
     "output_type": "display_data"
    }
   ],
   "source": [
    "# The confusion matrix\n",
    "labels = [0,1]\n",
    "cm = confusion_matrix(y, pred, labels=labels)\n",
    "disp = ConfusionMatrixDisplay(confusion_matrix=cm, display_labels=labels)\n",
    "disp.plot();"
   ]
  },
  {
   "cell_type": "code",
   "execution_count": 89,
   "id": "3596bb1d-bbf8-4e1f-9b19-f9837b518e83",
   "metadata": {},
   "outputs": [
    {
     "name": "stdout",
     "output_type": "stream",
     "text": [
      "1.0\n"
     ]
    }
   ],
   "source": [
    "# accuracy score\n",
    "accur = accuracy_score(pred, y)\n",
    "print(accur)"
   ]
  },
  {
   "cell_type": "code",
   "execution_count": 90,
   "id": "2ddce589",
   "metadata": {},
   "outputs": [
    {
     "data": {
      "image/png": "[encoded data removed]",
      "text/plain": [
       "<Figure size 640x480 with 1 Axes>"
      ]
     },
     "metadata": {},
     "output_type": "display_data"
    }
   ],
   "source": [
    "from sklearn import metrics\n",
    "y_pred_proba = knn.predict_proba(X)[::,1]\n",
    "fpr, tpr, _ = metrics.roc_curve(y, y_pred_proba)\n",
    "auc = metrics.roc_auc_score(y, y_pred_proba)\n",
    "plt.plot(fpr,tpr,label=\"data 1, auc=\"+str(round(auc,4)))\n",
    "plt.legend(loc=4)\n",
    "plt.title('ROC curve for training data')\n",
    "plt.xlabel('1-Specificity')\n",
    "plt.ylabel('Sensitivity')\n",
    "plt.grid()\n",
    "plt.show()"
   ]
  },
  {
   "cell_type": "markdown",
   "id": "d7d79652",
   "metadata": {},
   "source": [
    "## predict all location"
   ]
  },
  {
   "cell_type": "code",
   "execution_count": 91,
   "id": "3a54bdab",
   "metadata": {},
   "outputs": [
    {
     "data": {
      "text/html": [
       "<div>\n",
       "<style scoped>\n",
       "    .dataframe tbody tr th:only-of-type {\n",
       "        vertical-align: middle;\n",
       "    }\n",
       "\n",
       "    .dataframe tbody tr th {\n",
       "        vertical-align: top;\n",
       "    }\n",
       "\n",
       "    .dataframe thead th {\n",
       "        text-align: right;\n",
       "    }\n",
       "</style>\n",
       "<table border=\"1\" class=\"dataframe\">\n",
       "  <thead>\n",
       "    <tr style=\"text-align: right;\">\n",
       "      <th></th>\n",
       "      <th>left</th>\n",
       "      <th>top</th>\n",
       "      <th>right</th>\n",
       "      <th>bottom</th>\n",
       "    </tr>\n",
       "  </thead>\n",
       "  <tbody>\n",
       "    <tr>\n",
       "      <th>0</th>\n",
       "      <td>-18545.2946</td>\n",
       "      <td>1196517.033</td>\n",
       "      <td>-13717.262600</td>\n",
       "      <td>1191689.001</td>\n",
       "    </tr>\n",
       "    <tr>\n",
       "      <th>1</th>\n",
       "      <td>-18545.2946</td>\n",
       "      <td>1191689.001</td>\n",
       "      <td>-13717.262600</td>\n",
       "      <td>1186860.969</td>\n",
       "    </tr>\n",
       "    <tr>\n",
       "      <th>2</th>\n",
       "      <td>-13717.2626</td>\n",
       "      <td>1201345.065</td>\n",
       "      <td>-8889.230595</td>\n",
       "      <td>1196517.033</td>\n",
       "    </tr>\n",
       "    <tr>\n",
       "      <th>3</th>\n",
       "      <td>-13717.2626</td>\n",
       "      <td>1196517.033</td>\n",
       "      <td>-8889.230595</td>\n",
       "      <td>1191689.001</td>\n",
       "    </tr>\n",
       "    <tr>\n",
       "      <th>4</th>\n",
       "      <td>-13717.2626</td>\n",
       "      <td>1191689.001</td>\n",
       "      <td>-8889.230595</td>\n",
       "      <td>1186860.969</td>\n",
       "    </tr>\n",
       "  </tbody>\n",
       "</table>\n",
       "</div>"
      ],
      "text/plain": [
       "         left          top         right       bottom\n",
       "0 -18545.2946  1196517.033 -13717.262600  1191689.001\n",
       "1 -18545.2946  1191689.001 -13717.262600  1186860.969\n",
       "2 -13717.2626  1201345.065  -8889.230595  1196517.033\n",
       "3 -13717.2626  1196517.033  -8889.230595  1191689.001\n",
       "4 -13717.2626  1191689.001  -8889.230595  1186860.969"
      ]
     },
     "execution_count": 91,
     "metadata": {},
     "output_type": "execute_result"
    }
   ],
   "source": [
    "X_all = df.iloc[:,1:5]\n",
    "X_all.head(5)"
   ]
  },
  {
   "cell_type": "code",
   "execution_count": 92,
   "id": "26441265",
   "metadata": {
    "scrolled": true
   },
   "outputs": [
    {
     "name": "stdout",
     "output_type": "stream",
     "text": [
      "<class 'pandas.core.frame.DataFrame'>\n",
      "Int64Index: 937 entries, 0 to 936\n",
      "Data columns (total 4 columns):\n",
      " #   Column  Non-Null Count  Dtype  \n",
      "---  ------  --------------  -----  \n",
      " 0   left    937 non-null    float64\n",
      " 1   top     937 non-null    float64\n",
      " 2   right   937 non-null    float64\n",
      " 3   bottom  937 non-null    float64\n",
      "dtypes: float64(4)\n",
      "memory usage: 36.6 KB\n"
     ]
    }
   ],
   "source": [
    "X_all.info()"
   ]
  },
  {
   "cell_type": "code",
   "execution_count": 93,
   "id": "38153ccc",
   "metadata": {},
   "outputs": [
    {
     "name": "stderr",
     "output_type": "stream",
     "text": [
      "C:\\Users\\mengj\\anaconda3\\lib\\site-packages\\sklearn\\neighbors\\_classification.py:228: FutureWarning: Unlike other reduction functions (e.g. `skew`, `kurtosis`), the default behavior of `mode` typically preserves the axis it acts along. In SciPy 1.11.0, this behavior will change: the default value of `keepdims` will become False, the `axis` over which the statistic is taken will be eliminated, and the value None will no longer be accepted. Set `keepdims` to True or False to avoid this warning.\n",
      "  mode, _ = stats.mode(_y[neigh_ind, k], axis=1)\n"
     ]
    }
   ],
   "source": [
    "df_pred = knn.predict(X_all)"
   ]
  },
  {
   "cell_type": "code",
   "execution_count": 94,
   "id": "abdc1a42",
   "metadata": {},
   "outputs": [
    {
     "name": "stdout",
     "output_type": "stream",
     "text": [
      "<class 'pandas.core.frame.DataFrame'>\n",
      "Int64Index: 937 entries, 0 to 936\n",
      "Data columns (total 6 columns):\n",
      " #   Column         Non-Null Count  Dtype  \n",
      "---  ------         --------------  -----  \n",
      " 0   id             937 non-null    float64\n",
      " 1   left           937 non-null    float64\n",
      " 2   top            937 non-null    float64\n",
      " 3   right          937 non-null    float64\n",
      " 4   bottom         937 non-null    float64\n",
      " 5   label_KNNpred  937 non-null    float64\n",
      "dtypes: float64(6)\n",
      "memory usage: 51.2 KB\n"
     ]
    }
   ],
   "source": [
    "# convert numpy array to pandas dataframe\n",
    "df_pred = pd.DataFrame(df_pred, columns = ['label_KNNpred'])\n",
    "df_pred.index = dataset.index\n",
    "df_concat = dataset.iloc[:,:5]\n",
    "df_KNNpred = pd.concat([df_concat, df_pred], axis=1)\n",
    "df_KNNpred.info()"
   ]
  },
  {
   "cell_type": "code",
   "execution_count": 95,
   "id": "7a360d93",
   "metadata": {},
   "outputs": [],
   "source": [
    "df_KNNpred.to_csv('C:/Users/mengj/OneDrive - lamar.edu/LectureNote2023/MLforCivilEng/TeamProject2/WoodbineGrid_KNN_NBC.csv')"
   ]
  },
  {
   "cell_type": "markdown",
   "id": "1544073a",
   "metadata": {},
   "source": [
    "## predict for nulls location"
   ]
  },
  {
   "cell_type": "code",
   "execution_count": 120,
   "id": "156f3f55",
   "metadata": {},
   "outputs": [
    {
     "data": {
      "text/plain": [
       "left            0\n",
       "top             0\n",
       "right           0\n",
       "bottom          0\n",
       "label_NBCp    780\n",
       "dtype: int64"
      ]
     },
     "execution_count": 120,
     "metadata": {},
     "output_type": "execute_result"
    }
   ],
   "source": [
    "df.isnull().sum()"
   ]
  },
  {
   "cell_type": "code",
   "execution_count": 121,
   "id": "0a67ad6c",
   "metadata": {},
   "outputs": [
    {
     "name": "stdout",
     "output_type": "stream",
     "text": [
      "<class 'pandas.core.frame.DataFrame'>\n",
      "Int64Index: 780 entries, 564 to 562\n",
      "Data columns (total 5 columns):\n",
      " #   Column      Non-Null Count  Dtype  \n",
      "---  ------      --------------  -----  \n",
      " 0   left        780 non-null    float64\n",
      " 1   top         780 non-null    float64\n",
      " 2   right       780 non-null    float64\n",
      " 3   bottom      780 non-null    float64\n",
      " 4   label_NBCp  0 non-null      float64\n",
      "dtypes: float64(5)\n",
      "memory usage: 36.6 KB\n"
     ]
    }
   ],
   "source": [
    "df_null = df.iloc[680:].copy()\n",
    "df_null.info()"
   ]
  },
  {
   "cell_type": "code",
   "execution_count": 122,
   "id": "963d7901",
   "metadata": {},
   "outputs": [
    {
     "data": {
      "text/html": [
       "<div>\n",
       "<style scoped>\n",
       "    .dataframe tbody tr th:only-of-type {\n",
       "        vertical-align: middle;\n",
       "    }\n",
       "\n",
       "    .dataframe tbody tr th {\n",
       "        vertical-align: top;\n",
       "    }\n",
       "\n",
       "    .dataframe thead th {\n",
       "        text-align: right;\n",
       "    }\n",
       "</style>\n",
       "<table border=\"1\" class=\"dataframe\">\n",
       "  <thead>\n",
       "    <tr style=\"text-align: right;\">\n",
       "      <th></th>\n",
       "      <th>left</th>\n",
       "      <th>top</th>\n",
       "      <th>right</th>\n",
       "      <th>bottom</th>\n",
       "      <th>label_NBCp</th>\n",
       "    </tr>\n",
       "    <tr>\n",
       "      <th>id</th>\n",
       "      <th></th>\n",
       "      <th></th>\n",
       "      <th></th>\n",
       "      <th></th>\n",
       "      <th></th>\n",
       "    </tr>\n",
       "  </thead>\n",
       "  <tbody>\n",
       "    <tr>\n",
       "      <th>564</th>\n",
       "      <td>-86137.7426</td>\n",
       "      <td>1051676.073</td>\n",
       "      <td>-81309.7106</td>\n",
       "      <td>1046848.041</td>\n",
       "      <td>NaN</td>\n",
       "    </tr>\n",
       "    <tr>\n",
       "      <th>565</th>\n",
       "      <td>-86137.7426</td>\n",
       "      <td>1046848.041</td>\n",
       "      <td>-81309.7106</td>\n",
       "      <td>1042020.009</td>\n",
       "      <td>NaN</td>\n",
       "    </tr>\n",
       "    <tr>\n",
       "      <th>566</th>\n",
       "      <td>-86137.7426</td>\n",
       "      <td>1042020.009</td>\n",
       "      <td>-81309.7106</td>\n",
       "      <td>1037191.977</td>\n",
       "      <td>NaN</td>\n",
       "    </tr>\n",
       "    <tr>\n",
       "      <th>567</th>\n",
       "      <td>-86137.7426</td>\n",
       "      <td>1037191.977</td>\n",
       "      <td>-81309.7106</td>\n",
       "      <td>1032363.945</td>\n",
       "      <td>NaN</td>\n",
       "    </tr>\n",
       "    <tr>\n",
       "      <th>568</th>\n",
       "      <td>-86137.7426</td>\n",
       "      <td>1032363.945</td>\n",
       "      <td>-81309.7106</td>\n",
       "      <td>1027535.913</td>\n",
       "      <td>NaN</td>\n",
       "    </tr>\n",
       "  </tbody>\n",
       "</table>\n",
       "</div>"
      ],
      "text/plain": [
       "           left          top       right       bottom  label_NBCp\n",
       "id                                                               \n",
       "564 -86137.7426  1051676.073 -81309.7106  1046848.041         NaN\n",
       "565 -86137.7426  1046848.041 -81309.7106  1042020.009         NaN\n",
       "566 -86137.7426  1042020.009 -81309.7106  1037191.977         NaN\n",
       "567 -86137.7426  1037191.977 -81309.7106  1032363.945         NaN\n",
       "568 -86137.7426  1032363.945 -81309.7106  1027535.913         NaN"
      ]
     },
     "execution_count": 122,
     "metadata": {},
     "output_type": "execute_result"
    }
   ],
   "source": [
    "df_null.head(5)"
   ]
  },
  {
   "cell_type": "code",
   "execution_count": 129,
   "id": "1971a008",
   "metadata": {},
   "outputs": [
    {
     "name": "stderr",
     "output_type": "stream",
     "text": [
      "C:\\Users\\mengj\\anaconda3\\lib\\site-packages\\sklearn\\base.py:443: UserWarning: X has feature names, but KNeighborsClassifier was fitted without feature names\n",
      "  warnings.warn(\n",
      "C:\\Users\\mengj\\anaconda3\\lib\\site-packages\\sklearn\\neighbors\\_classification.py:228: FutureWarning: Unlike other reduction functions (e.g. `skew`, `kurtosis`), the default behavior of `mode` typically preserves the axis it acts along. In SciPy 1.11.0, this behavior will change: the default value of `keepdims` will become False, the `axis` over which the statistic is taken will be eliminated, and the value None will no longer be accepted. Set `keepdims` to True or False to avoid this warning.\n",
      "  mode, _ = stats.mode(_y[neigh_ind, k], axis=1)\n"
     ]
    }
   ],
   "source": [
    "X_null = df_null.iloc[:,:4]\n",
    "df_pred = knn.predict(X_null)"
   ]
  },
  {
   "cell_type": "code",
   "execution_count": 130,
   "id": "f7edd857",
   "metadata": {},
   "outputs": [
    {
     "name": "stdout",
     "output_type": "stream",
     "text": [
      "<class 'pandas.core.frame.DataFrame'>\n",
      "Int64Index: 1460 entries, 803 to 562\n",
      "Data columns (total 6 columns):\n",
      " #   Column      Non-Null Count  Dtype  \n",
      "---  ------      --------------  -----  \n",
      " 0   id          1460 non-null   int64  \n",
      " 1   left        1460 non-null   float64\n",
      " 2   top         1460 non-null   float64\n",
      " 3   right       1460 non-null   float64\n",
      " 4   bottom      1460 non-null   float64\n",
      " 5   label_NBCp  780 non-null    float64\n",
      "dtypes: float64(5), int64(1)\n",
      "memory usage: 79.8 KB\n"
     ]
    }
   ],
   "source": [
    "# convert numpy array to pandas dataframe\n",
    "df_pred = pd.DataFrame(df_pred, columns = ['label_NBCp'])\n",
    "df_pred.index = df_null.index\n",
    "df_concat = dataset.iloc[:,:5]\n",
    "df_KNNpred = pd.concat([df_concat, df_pred], axis=1)\n",
    "df_KNNpred.info()"
   ]
  },
  {
   "cell_type": "code",
   "execution_count": 134,
   "id": "f6ffabfc",
   "metadata": {},
   "outputs": [
    {
     "name": "stdout",
     "output_type": "stream",
     "text": [
      "<class 'pandas.core.frame.DataFrame'>\n",
      "Int64Index: 780 entries, 564 to 562\n",
      "Data columns (total 6 columns):\n",
      " #   Column      Non-Null Count  Dtype  \n",
      "---  ------      --------------  -----  \n",
      " 0   id          780 non-null    int64  \n",
      " 1   left        780 non-null    float64\n",
      " 2   top         780 non-null    float64\n",
      " 3   right       780 non-null    float64\n",
      " 4   bottom      780 non-null    float64\n",
      " 5   label_NBCp  780 non-null    float64\n",
      "dtypes: float64(5), int64(1)\n",
      "memory usage: 42.7 KB\n"
     ]
    }
   ],
   "source": [
    "df_KNNpred.dropna(axis=0, inplace=True)\n",
    "df_KNNpred.info()"
   ]
  },
  {
   "cell_type": "code",
   "execution_count": 139,
   "id": "006cb55e",
   "metadata": {},
   "outputs": [
    {
     "name": "stdout",
     "output_type": "stream",
     "text": [
      "<class 'pandas.core.frame.DataFrame'>\n",
      "Int64Index: 680 entries, 803 to 298\n",
      "Data columns (total 6 columns):\n",
      " #   Column      Non-Null Count  Dtype  \n",
      "---  ------      --------------  -----  \n",
      " 0   id          680 non-null    int64  \n",
      " 1   left        680 non-null    float64\n",
      " 2   top         680 non-null    float64\n",
      " 3   right       680 non-null    float64\n",
      " 4   bottom      680 non-null    float64\n",
      " 5   label_NBCp  680 non-null    float64\n",
      "dtypes: float64(5), int64(1)\n",
      "memory usage: 37.2 KB\n"
     ]
    },
    {
     "name": "stderr",
     "output_type": "stream",
     "text": [
      "C:\\Users\\mengj\\AppData\\Local\\Temp\\ipykernel_14700\\2785855720.py:2: SettingWithCopyWarning: \n",
      "A value is trying to be set on a copy of a slice from a DataFrame\n",
      "\n",
      "See the caveats in the documentation: https://pandas.pydata.org/pandas-docs/stable/user_guide/indexing.html#returning-a-view-versus-a-copy\n",
      "  df_NBCpred.dropna(axis=0, inplace=True)\n"
     ]
    }
   ],
   "source": [
    "df_NBCpred = dataset[['id','left','top','right','bottom','label_NBCp']]\n",
    "df_NBCpred.dropna(axis=0, inplace=True)\n",
    "df_NBCpred.info()"
   ]
  },
  {
   "cell_type": "code",
   "execution_count": 140,
   "id": "e1f7616f",
   "metadata": {},
   "outputs": [
    {
     "name": "stdout",
     "output_type": "stream",
     "text": [
      "<class 'pandas.core.frame.DataFrame'>\n",
      "Int64Index: 1460 entries, 803 to 562\n",
      "Data columns (total 6 columns):\n",
      " #   Column      Non-Null Count  Dtype  \n",
      "---  ------      --------------  -----  \n",
      " 0   id          1460 non-null   int64  \n",
      " 1   left        1460 non-null   float64\n",
      " 2   top         1460 non-null   float64\n",
      " 3   right       1460 non-null   float64\n",
      " 4   bottom      1460 non-null   float64\n",
      " 5   label_NBCp  1460 non-null   float64\n",
      "dtypes: float64(5), int64(1)\n",
      "memory usage: 79.8 KB\n"
     ]
    }
   ],
   "source": [
    "df_KNNpred_NBC = pd.concat([df_NBCpred, df_KNNpred], axis=0)\n",
    "df_KNNpred_NBC.info()"
   ]
  },
  {
   "cell_type": "code",
   "execution_count": 142,
   "id": "cf5bd6da",
   "metadata": {},
   "outputs": [],
   "source": [
    "df_KNNpred_NBC.to_csv('C:/Users/mengj/OneDrive - lamar.edu/LectureNote2023/MLforCivilEng/TeamProject2/WoodbineGrid_KNN_NBC2.csv')"
   ]
  },
  {
   "cell_type": "code",
   "execution_count": null,
   "id": "f05cb3b5",
   "metadata": {},
   "outputs": [],
   "source": []
  }
 ],
 "metadata": {
  "kernelspec": {
   "display_name": "Python 3 (ipykernel)",
   "language": "python",
   "name": "python3"
  },
  "language_info": {
   "codemirror_mode": {
    "name": "ipython",
    "version": 3
   },
   "file_extension": ".py",
   "mimetype": "text/x-python",
   "name": "python",
   "nbconvert_exporter": "python",
   "pygments_lexer": "ipython3",
   "version": "3.9.13"
  }
 },
 "nbformat": 4,
 "nbformat_minor": 5
}
