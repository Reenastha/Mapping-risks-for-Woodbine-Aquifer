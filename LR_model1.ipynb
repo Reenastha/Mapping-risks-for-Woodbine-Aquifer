{
 "cells": [
  {
   "cell_type": "markdown",
   "id": "8214745d",
   "metadata": {},
   "source": [
    "<h2> <center> <font color = 'Magenta'> Logistic Regression (Model 1) </h2>"
   ]
  },
  {
   "cell_type": "code",
   "execution_count": 140,
   "id": "49b72f27",
   "metadata": {},
   "outputs": [],
   "source": [
    "import os\n",
    "import pandas as pd\n",
    "from sklearn.model_selection import train_test_split\n",
    "from sklearn.linear_model import LogisticRegression\n",
    "from sklearn import metrics\n",
    "from itertools import chain\n",
    "from matplotlib import pyplot as plt"
   ]
  },
  {
   "cell_type": "code",
   "execution_count": 141,
   "id": "25b8538c",
   "metadata": {},
   "outputs": [
    {
     "data": {
      "text/html": [
       "<div>\n",
       "<style scoped>\n",
       "    .dataframe tbody tr th:only-of-type {\n",
       "        vertical-align: middle;\n",
       "    }\n",
       "\n",
       "    .dataframe tbody tr th {\n",
       "        vertical-align: top;\n",
       "    }\n",
       "\n",
       "    .dataframe thead th {\n",
       "        text-align: right;\n",
       "    }\n",
       "</style>\n",
       "<table border=\"1\" class=\"dataframe\">\n",
       "  <thead>\n",
       "    <tr style=\"text-align: right;\">\n",
       "      <th></th>\n",
       "      <th>Unnamed: 0.1</th>\n",
       "      <th>Unnamed: 0</th>\n",
       "      <th>StateWellNumber</th>\n",
       "      <th>StateWel_1</th>\n",
       "      <th>LatitudeDD</th>\n",
       "      <th>Dlat</th>\n",
       "      <th>Mlat</th>\n",
       "      <th>Slat</th>\n",
       "      <th>LongitudeD</th>\n",
       "      <th>Dlong</th>\n",
       "      <th>...</th>\n",
       "      <th>Chloride_mg/L</th>\n",
       "      <th>Fluoride_mg/L</th>\n",
       "      <th>pH</th>\n",
       "      <th>Texture_SSURGO</th>\n",
       "      <th>Texture_Num</th>\n",
       "      <th>Clay_SSURGO</th>\n",
       "      <th>SAR_SSURGO</th>\n",
       "      <th>EC_SSURGO</th>\n",
       "      <th>label</th>\n",
       "      <th>ppt</th>\n",
       "    </tr>\n",
       "  </thead>\n",
       "  <tbody>\n",
       "    <tr>\n",
       "      <th>0</th>\n",
       "      <td>0</td>\n",
       "      <td>0</td>\n",
       "      <td>1819901</td>\n",
       "      <td>1819901</td>\n",
       "      <td>33.625555</td>\n",
       "      <td>33</td>\n",
       "      <td>37</td>\n",
       "      <td>32.0</td>\n",
       "      <td>-96.658056</td>\n",
       "      <td>96</td>\n",
       "      <td>...</td>\n",
       "      <td>11.00</td>\n",
       "      <td>1.000</td>\n",
       "      <td>8.300000</td>\n",
       "      <td>Silty clay</td>\n",
       "      <td>2</td>\n",
       "      <td>55.0</td>\n",
       "      <td>1</td>\n",
       "      <td>2.0</td>\n",
       "      <td>0</td>\n",
       "      <td>1073.851318</td>\n",
       "    </tr>\n",
       "    <tr>\n",
       "      <th>1</th>\n",
       "      <td>1</td>\n",
       "      <td>1</td>\n",
       "      <td>1820804</td>\n",
       "      <td>1820804</td>\n",
       "      <td>33.635834</td>\n",
       "      <td>33</td>\n",
       "      <td>38</td>\n",
       "      <td>9.0</td>\n",
       "      <td>-96.564167</td>\n",
       "      <td>96</td>\n",
       "      <td>...</td>\n",
       "      <td>12.75</td>\n",
       "      <td>1.000</td>\n",
       "      <td>8.750000</td>\n",
       "      <td>Silty clay</td>\n",
       "      <td>2</td>\n",
       "      <td>55.0</td>\n",
       "      <td>1</td>\n",
       "      <td>2.0</td>\n",
       "      <td>0</td>\n",
       "      <td>1074.579956</td>\n",
       "    </tr>\n",
       "    <tr>\n",
       "      <th>2</th>\n",
       "      <td>2</td>\n",
       "      <td>2</td>\n",
       "      <td>1820805</td>\n",
       "      <td>1820805</td>\n",
       "      <td>33.641667</td>\n",
       "      <td>33</td>\n",
       "      <td>38</td>\n",
       "      <td>30.0</td>\n",
       "      <td>-96.560278</td>\n",
       "      <td>96</td>\n",
       "      <td>...</td>\n",
       "      <td>13.40</td>\n",
       "      <td>0.300</td>\n",
       "      <td>7.200000</td>\n",
       "      <td>Silty clay</td>\n",
       "      <td>2</td>\n",
       "      <td>55.0</td>\n",
       "      <td>1</td>\n",
       "      <td>2.0</td>\n",
       "      <td>0</td>\n",
       "      <td>1073.386353</td>\n",
       "    </tr>\n",
       "    <tr>\n",
       "      <th>3</th>\n",
       "      <td>3</td>\n",
       "      <td>3</td>\n",
       "      <td>1827203</td>\n",
       "      <td>1827203</td>\n",
       "      <td>33.621111</td>\n",
       "      <td>33</td>\n",
       "      <td>37</td>\n",
       "      <td>16.0</td>\n",
       "      <td>-96.683611</td>\n",
       "      <td>96</td>\n",
       "      <td>...</td>\n",
       "      <td>980.25</td>\n",
       "      <td>2.125</td>\n",
       "      <td>8.150000</td>\n",
       "      <td>Silty clay</td>\n",
       "      <td>2</td>\n",
       "      <td>55.0</td>\n",
       "      <td>1</td>\n",
       "      <td>2.0</td>\n",
       "      <td>1</td>\n",
       "      <td>1073.851318</td>\n",
       "    </tr>\n",
       "    <tr>\n",
       "      <th>4</th>\n",
       "      <td>4</td>\n",
       "      <td>4</td>\n",
       "      <td>1827801</td>\n",
       "      <td>1827801</td>\n",
       "      <td>33.532500</td>\n",
       "      <td>33</td>\n",
       "      <td>31</td>\n",
       "      <td>57.0</td>\n",
       "      <td>-96.701945</td>\n",
       "      <td>96</td>\n",
       "      <td>...</td>\n",
       "      <td>11.50</td>\n",
       "      <td>0.810</td>\n",
       "      <td>8.734286</td>\n",
       "      <td>Silty clay</td>\n",
       "      <td>2</td>\n",
       "      <td>55.0</td>\n",
       "      <td>1</td>\n",
       "      <td>2.0</td>\n",
       "      <td>0</td>\n",
       "      <td>1051.391113</td>\n",
       "    </tr>\n",
       "  </tbody>\n",
       "</table>\n",
       "<p>5 rows × 29 columns</p>\n",
       "</div>"
      ],
      "text/plain": [
       "   Unnamed: 0.1  Unnamed: 0  StateWellNumber  StateWel_1  LatitudeDD  Dlat  \\\n",
       "0             0           0          1819901     1819901   33.625555    33   \n",
       "1             1           1          1820804     1820804   33.635834    33   \n",
       "2             2           2          1820805     1820805   33.641667    33   \n",
       "3             3           3          1827203     1827203   33.621111    33   \n",
       "4             4           4          1827801     1827801   33.532500    33   \n",
       "\n",
       "   Mlat  Slat  LongitudeD  Dlong  ...  Chloride_mg/L  Fluoride_mg/L        pH  \\\n",
       "0    37  32.0  -96.658056     96  ...          11.00          1.000  8.300000   \n",
       "1    38   9.0  -96.564167     96  ...          12.75          1.000  8.750000   \n",
       "2    38  30.0  -96.560278     96  ...          13.40          0.300  7.200000   \n",
       "3    37  16.0  -96.683611     96  ...         980.25          2.125  8.150000   \n",
       "4    31  57.0  -96.701945     96  ...          11.50          0.810  8.734286   \n",
       "\n",
       "   Texture_SSURGO  Texture_Num  Clay_SSURGO  SAR_SSURGO  EC_SSURGO  label  \\\n",
       "0      Silty clay            2         55.0           1        2.0      0   \n",
       "1      Silty clay            2         55.0           1        2.0      0   \n",
       "2      Silty clay            2         55.0           1        2.0      0   \n",
       "3      Silty clay            2         55.0           1        2.0      1   \n",
       "4      Silty clay            2         55.0           1        2.0      0   \n",
       "\n",
       "           ppt  \n",
       "0  1073.851318  \n",
       "1  1074.579956  \n",
       "2  1073.386353  \n",
       "3  1073.851318  \n",
       "4  1051.391113  \n",
       "\n",
       "[5 rows x 29 columns]"
      ]
     },
     "execution_count": 141,
     "metadata": {},
     "output_type": "execute_result"
    }
   ],
   "source": [
    "# Set working Directory\n",
    "path = \"C:/Users/Reena Shrestha/OneDrive - lamar.edu/Desktop/Machine learning/Project_2\"\n",
    "fname = 'WB.csv'\n",
    "os.chdir(path) \n",
    "a = pd.read_csv(fname)\n",
    "a.head(5)"
   ]
  },
  {
   "cell_type": "code",
   "execution_count": 142,
   "id": "48b2fba8",
   "metadata": {},
   "outputs": [
    {
     "data": {
      "text/html": [
       "<div>\n",
       "<style scoped>\n",
       "    .dataframe tbody tr th:only-of-type {\n",
       "        vertical-align: middle;\n",
       "    }\n",
       "\n",
       "    .dataframe tbody tr th {\n",
       "        vertical-align: top;\n",
       "    }\n",
       "\n",
       "    .dataframe thead th {\n",
       "        text-align: right;\n",
       "    }\n",
       "</style>\n",
       "<table border=\"1\" class=\"dataframe\">\n",
       "  <thead>\n",
       "    <tr style=\"text-align: right;\">\n",
       "      <th></th>\n",
       "      <th>TDS_mg/L</th>\n",
       "      <th>SAR</th>\n",
       "      <th>WellDepth</th>\n",
       "      <th>Hardness_mg/L</th>\n",
       "      <th>Sulfate_mg/L</th>\n",
       "      <th>Chloride_mg/L</th>\n",
       "      <th>EC_SSURGO</th>\n",
       "    </tr>\n",
       "  </thead>\n",
       "  <tbody>\n",
       "    <tr>\n",
       "      <th>TDS_mg/L</th>\n",
       "      <td>1.000000</td>\n",
       "      <td>0.627383</td>\n",
       "      <td>0.407251</td>\n",
       "      <td>0.269447</td>\n",
       "      <td>0.799147</td>\n",
       "      <td>0.769111</td>\n",
       "      <td>0.060182</td>\n",
       "    </tr>\n",
       "    <tr>\n",
       "      <th>SAR</th>\n",
       "      <td>0.627383</td>\n",
       "      <td>1.000000</td>\n",
       "      <td>0.660052</td>\n",
       "      <td>-0.377785</td>\n",
       "      <td>0.307199</td>\n",
       "      <td>0.421723</td>\n",
       "      <td>0.080604</td>\n",
       "    </tr>\n",
       "    <tr>\n",
       "      <th>WellDepth</th>\n",
       "      <td>0.407251</td>\n",
       "      <td>0.660052</td>\n",
       "      <td>1.000000</td>\n",
       "      <td>-0.278592</td>\n",
       "      <td>0.166646</td>\n",
       "      <td>0.335367</td>\n",
       "      <td>0.061108</td>\n",
       "    </tr>\n",
       "    <tr>\n",
       "      <th>Hardness_mg/L</th>\n",
       "      <td>0.269447</td>\n",
       "      <td>-0.377785</td>\n",
       "      <td>-0.278592</td>\n",
       "      <td>1.000000</td>\n",
       "      <td>0.522785</td>\n",
       "      <td>0.151044</td>\n",
       "      <td>0.035050</td>\n",
       "    </tr>\n",
       "    <tr>\n",
       "      <th>Sulfate_mg/L</th>\n",
       "      <td>0.799147</td>\n",
       "      <td>0.307199</td>\n",
       "      <td>0.166646</td>\n",
       "      <td>0.522785</td>\n",
       "      <td>1.000000</td>\n",
       "      <td>0.351971</td>\n",
       "      <td>-0.083918</td>\n",
       "    </tr>\n",
       "    <tr>\n",
       "      <th>Chloride_mg/L</th>\n",
       "      <td>0.769111</td>\n",
       "      <td>0.421723</td>\n",
       "      <td>0.335367</td>\n",
       "      <td>0.151044</td>\n",
       "      <td>0.351971</td>\n",
       "      <td>1.000000</td>\n",
       "      <td>0.156049</td>\n",
       "    </tr>\n",
       "    <tr>\n",
       "      <th>EC_SSURGO</th>\n",
       "      <td>0.060182</td>\n",
       "      <td>0.080604</td>\n",
       "      <td>0.061108</td>\n",
       "      <td>0.035050</td>\n",
       "      <td>-0.083918</td>\n",
       "      <td>0.156049</td>\n",
       "      <td>1.000000</td>\n",
       "    </tr>\n",
       "  </tbody>\n",
       "</table>\n",
       "</div>"
      ],
      "text/plain": [
       "               TDS_mg/L       SAR  WellDepth  Hardness_mg/L  Sulfate_mg/L  \\\n",
       "TDS_mg/L       1.000000  0.627383   0.407251       0.269447      0.799147   \n",
       "SAR            0.627383  1.000000   0.660052      -0.377785      0.307199   \n",
       "WellDepth      0.407251  0.660052   1.000000      -0.278592      0.166646   \n",
       "Hardness_mg/L  0.269447 -0.377785  -0.278592       1.000000      0.522785   \n",
       "Sulfate_mg/L   0.799147  0.307199   0.166646       0.522785      1.000000   \n",
       "Chloride_mg/L  0.769111  0.421723   0.335367       0.151044      0.351971   \n",
       "EC_SSURGO      0.060182  0.080604   0.061108       0.035050     -0.083918   \n",
       "\n",
       "               Chloride_mg/L  EC_SSURGO  \n",
       "TDS_mg/L            0.769111   0.060182  \n",
       "SAR                 0.421723   0.080604  \n",
       "WellDepth           0.335367   0.061108  \n",
       "Hardness_mg/L       0.151044   0.035050  \n",
       "Sulfate_mg/L        0.351971  -0.083918  \n",
       "Chloride_mg/L       1.000000   0.156049  \n",
       "EC_SSURGO           0.156049   1.000000  "
      ]
     },
     "execution_count": 142,
     "metadata": {},
     "output_type": "execute_result"
    }
   ],
   "source": [
    "features = ['TDS_mg/L','SAR', 'WellDepth', 'Hardness_mg/L','Sulfate_mg/L','Chloride_mg/L','EC_SSURGO'] # List of Input features for model\n",
    "X = a[features] # Dataframe of the data features\n",
    "Y = a['Fluoride_mg/L'] # Add Y variable to the input deature datframe\n",
    "X.corr()"
   ]
  },
  {
   "cell_type": "code",
   "execution_count": 121,
   "id": "9789c6f8",
   "metadata": {},
   "outputs": [
    {
     "data": {
      "text/plain": [
       "0      1.000000\n",
       "1      1.000000\n",
       "2      0.300000\n",
       "3      2.125000\n",
       "4      0.810000\n",
       "         ...   \n",
       "263    0.400000\n",
       "264    0.300000\n",
       "265    0.800000\n",
       "266    0.200000\n",
       "267    0.466667\n",
       "Name: Fluoride_mg/L, Length: 268, dtype: float64"
      ]
     },
     "execution_count": 121,
     "metadata": {},
     "output_type": "execute_result"
    }
   ],
   "source": [
    "Y"
   ]
  },
  {
   "cell_type": "code",
   "execution_count": 122,
   "id": "b8ec8f28",
   "metadata": {},
   "outputs": [
    {
     "data": {
      "text/plain": [
       "count    268.000000\n",
       "mean       1.337922\n",
       "std        1.068650\n",
       "min        0.143333\n",
       "25%        0.500000\n",
       "50%        1.000000\n",
       "75%        1.900000\n",
       "max        5.175000\n",
       "Name: Fluoride_mg/L, dtype: float64"
      ]
     },
     "execution_count": 122,
     "metadata": {},
     "output_type": "execute_result"
    }
   ],
   "source": [
    "Y.describe()"
   ]
  },
  {
   "cell_type": "code",
   "execution_count": 123,
   "id": "b79668ce",
   "metadata": {},
   "outputs": [],
   "source": [
    "X = (X-X.min()) / (X.max()-X.min()) # Normalize the data\n",
    "Y = Y.apply(lambda Y:Y >= 1.9).astype(int) # convert the continuous variable to binary variable with threshold of 1.9"
   ]
  },
  {
   "cell_type": "code",
   "execution_count": 124,
   "id": "42cd2e12",
   "metadata": {},
   "outputs": [
    {
     "data": {
      "text/html": [
       "<div>\n",
       "<style scoped>\n",
       "    .dataframe tbody tr th:only-of-type {\n",
       "        vertical-align: middle;\n",
       "    }\n",
       "\n",
       "    .dataframe tbody tr th {\n",
       "        vertical-align: top;\n",
       "    }\n",
       "\n",
       "    .dataframe thead th {\n",
       "        text-align: right;\n",
       "    }\n",
       "</style>\n",
       "<table border=\"1\" class=\"dataframe\">\n",
       "  <thead>\n",
       "    <tr style=\"text-align: right;\">\n",
       "      <th></th>\n",
       "      <th>TDS_mg/L</th>\n",
       "      <th>SAR</th>\n",
       "      <th>WellDepth</th>\n",
       "      <th>Hardness_mg/L</th>\n",
       "      <th>Sulfate_mg/L</th>\n",
       "      <th>Chloride_mg/L</th>\n",
       "      <th>EC_SSURGO</th>\n",
       "    </tr>\n",
       "  </thead>\n",
       "  <tbody>\n",
       "    <tr>\n",
       "      <th>0</th>\n",
       "      <td>0.070731</td>\n",
       "      <td>0.211188</td>\n",
       "      <td>0.358791</td>\n",
       "      <td>0.002302</td>\n",
       "      <td>0.011186</td>\n",
       "      <td>0.005512</td>\n",
       "      <td>1.0</td>\n",
       "    </tr>\n",
       "    <tr>\n",
       "      <th>1</th>\n",
       "      <td>0.117763</td>\n",
       "      <td>0.242458</td>\n",
       "      <td>0.430969</td>\n",
       "      <td>0.005467</td>\n",
       "      <td>0.016667</td>\n",
       "      <td>0.006890</td>\n",
       "      <td>1.0</td>\n",
       "    </tr>\n",
       "    <tr>\n",
       "      <th>2</th>\n",
       "      <td>0.031927</td>\n",
       "      <td>0.212804</td>\n",
       "      <td>0.421737</td>\n",
       "      <td>0.000767</td>\n",
       "      <td>0.005593</td>\n",
       "      <td>0.007402</td>\n",
       "      <td>1.0</td>\n",
       "    </tr>\n",
       "    <tr>\n",
       "      <th>3</th>\n",
       "      <td>0.548658</td>\n",
       "      <td>0.684543</td>\n",
       "      <td>0.370541</td>\n",
       "      <td>0.010455</td>\n",
       "      <td>0.005928</td>\n",
       "      <td>0.768701</td>\n",
       "      <td>1.0</td>\n",
       "    </tr>\n",
       "    <tr>\n",
       "      <th>4</th>\n",
       "      <td>0.100097</td>\n",
       "      <td>0.460191</td>\n",
       "      <td>0.391523</td>\n",
       "      <td>0.000877</td>\n",
       "      <td>0.028188</td>\n",
       "      <td>0.005906</td>\n",
       "      <td>1.0</td>\n",
       "    </tr>\n",
       "    <tr>\n",
       "      <th>...</th>\n",
       "      <td>...</td>\n",
       "      <td>...</td>\n",
       "      <td>...</td>\n",
       "      <td>...</td>\n",
       "      <td>...</td>\n",
       "      <td>...</td>\n",
       "      <td>...</td>\n",
       "    </tr>\n",
       "    <tr>\n",
       "      <th>263</th>\n",
       "      <td>0.058452</td>\n",
       "      <td>0.023346</td>\n",
       "      <td>0.064205</td>\n",
       "      <td>0.039900</td>\n",
       "      <td>0.022371</td>\n",
       "      <td>0.040945</td>\n",
       "      <td>0.0</td>\n",
       "    </tr>\n",
       "    <tr>\n",
       "      <th>264</th>\n",
       "      <td>0.064346</td>\n",
       "      <td>0.146179</td>\n",
       "      <td>0.092740</td>\n",
       "      <td>0.003837</td>\n",
       "      <td>0.015660</td>\n",
       "      <td>0.040945</td>\n",
       "      <td>0.0</td>\n",
       "    </tr>\n",
       "    <tr>\n",
       "      <th>265</th>\n",
       "      <td>0.085713</td>\n",
       "      <td>0.186226</td>\n",
       "      <td>0.076794</td>\n",
       "      <td>0.004220</td>\n",
       "      <td>0.020134</td>\n",
       "      <td>0.018898</td>\n",
       "      <td>0.0</td>\n",
       "    </tr>\n",
       "    <tr>\n",
       "      <th>266</th>\n",
       "      <td>0.057715</td>\n",
       "      <td>0.031337</td>\n",
       "      <td>0.059169</td>\n",
       "      <td>0.026089</td>\n",
       "      <td>0.021029</td>\n",
       "      <td>0.029921</td>\n",
       "      <td>0.0</td>\n",
       "    </tr>\n",
       "    <tr>\n",
       "      <th>267</th>\n",
       "      <td>0.123350</td>\n",
       "      <td>0.114326</td>\n",
       "      <td>0.076794</td>\n",
       "      <td>0.015730</td>\n",
       "      <td>0.070694</td>\n",
       "      <td>0.023425</td>\n",
       "      <td>0.0</td>\n",
       "    </tr>\n",
       "  </tbody>\n",
       "</table>\n",
       "<p>268 rows × 7 columns</p>\n",
       "</div>"
      ],
      "text/plain": [
       "     TDS_mg/L       SAR  WellDepth  Hardness_mg/L  Sulfate_mg/L  \\\n",
       "0    0.070731  0.211188   0.358791       0.002302      0.011186   \n",
       "1    0.117763  0.242458   0.430969       0.005467      0.016667   \n",
       "2    0.031927  0.212804   0.421737       0.000767      0.005593   \n",
       "3    0.548658  0.684543   0.370541       0.010455      0.005928   \n",
       "4    0.100097  0.460191   0.391523       0.000877      0.028188   \n",
       "..        ...       ...        ...            ...           ...   \n",
       "263  0.058452  0.023346   0.064205       0.039900      0.022371   \n",
       "264  0.064346  0.146179   0.092740       0.003837      0.015660   \n",
       "265  0.085713  0.186226   0.076794       0.004220      0.020134   \n",
       "266  0.057715  0.031337   0.059169       0.026089      0.021029   \n",
       "267  0.123350  0.114326   0.076794       0.015730      0.070694   \n",
       "\n",
       "     Chloride_mg/L  EC_SSURGO  \n",
       "0         0.005512        1.0  \n",
       "1         0.006890        1.0  \n",
       "2         0.007402        1.0  \n",
       "3         0.768701        1.0  \n",
       "4         0.005906        1.0  \n",
       "..             ...        ...  \n",
       "263       0.040945        0.0  \n",
       "264       0.040945        0.0  \n",
       "265       0.018898        0.0  \n",
       "266       0.029921        0.0  \n",
       "267       0.023425        0.0  \n",
       "\n",
       "[268 rows x 7 columns]"
      ]
     },
     "execution_count": 124,
     "metadata": {},
     "output_type": "execute_result"
    }
   ],
   "source": [
    "X"
   ]
  },
  {
   "cell_type": "markdown",
   "id": "cf7c0e36",
   "metadata": {},
   "source": [
    "Y"
   ]
  },
  {
   "cell_type": "code",
   "execution_count": 125,
   "id": "1e4c6730",
   "metadata": {},
   "outputs": [],
   "source": [
    "# Split into training and testing data\n",
    "X_train,X_test,Y_train,Y_test=train_test_split(X,Y,test_size=0.20,random_state=10)"
   ]
  },
  {
   "cell_type": "markdown",
   "id": "0bc33bc9",
   "metadata": {},
   "source": [
    "<center> <h2> <font color='blue'> Logistic Regression </h2>"
   ]
  },
  {
   "cell_type": "code",
   "execution_count": 126,
   "id": "ab92760c",
   "metadata": {},
   "outputs": [],
   "source": [
    "# instantiate the model \n",
    "logreg = LogisticRegression(C=10**9) # setting a large C to ensure no regulation"
   ]
  },
  {
   "cell_type": "code",
   "execution_count": 127,
   "id": "7a940480",
   "metadata": {},
   "outputs": [
    {
     "data": {
      "text/plain": [
       "LogisticRegression(C=1000000000)"
      ]
     },
     "execution_count": 127,
     "metadata": {},
     "output_type": "execute_result"
    }
   ],
   "source": [
    "# fit the model to training data\n",
    "logreg.fit(X_train,Y_train)"
   ]
  },
  {
   "cell_type": "code",
   "execution_count": 128,
   "id": "961975b9",
   "metadata": {},
   "outputs": [
    {
     "data": {
      "text/html": [
       "<div>\n",
       "<style scoped>\n",
       "    .dataframe tbody tr th:only-of-type {\n",
       "        vertical-align: middle;\n",
       "    }\n",
       "\n",
       "    .dataframe tbody tr th {\n",
       "        vertical-align: top;\n",
       "    }\n",
       "\n",
       "    .dataframe thead th {\n",
       "        text-align: right;\n",
       "    }\n",
       "</style>\n",
       "<table border=\"1\" class=\"dataframe\">\n",
       "  <thead>\n",
       "    <tr style=\"text-align: right;\">\n",
       "      <th></th>\n",
       "      <th>0</th>\n",
       "      <th>1</th>\n",
       "    </tr>\n",
       "  </thead>\n",
       "  <tbody>\n",
       "    <tr>\n",
       "      <th>0</th>\n",
       "      <td>0.764829</td>\n",
       "      <td>2.351711e-01</td>\n",
       "    </tr>\n",
       "    <tr>\n",
       "      <th>1</th>\n",
       "      <td>0.957476</td>\n",
       "      <td>4.252416e-02</td>\n",
       "    </tr>\n",
       "    <tr>\n",
       "      <th>2</th>\n",
       "      <td>0.993412</td>\n",
       "      <td>6.588169e-03</td>\n",
       "    </tr>\n",
       "    <tr>\n",
       "      <th>3</th>\n",
       "      <td>0.000008</td>\n",
       "      <td>9.999915e-01</td>\n",
       "    </tr>\n",
       "    <tr>\n",
       "      <th>4</th>\n",
       "      <td>1.000000</td>\n",
       "      <td>7.864926e-08</td>\n",
       "    </tr>\n",
       "  </tbody>\n",
       "</table>\n",
       "</div>"
      ],
      "text/plain": [
       "          0             1\n",
       "0  0.764829  2.351711e-01\n",
       "1  0.957476  4.252416e-02\n",
       "2  0.993412  6.588169e-03\n",
       "3  0.000008  9.999915e-01\n",
       "4  1.000000  7.864926e-08"
      ]
     },
     "execution_count": 128,
     "metadata": {},
     "output_type": "execute_result"
    }
   ],
   "source": [
    "Y_pred = logreg.predict(X_train) # Make Predictions\n",
    "Yprob = logreg.predict_proba(X_train) #test output probabilities\n",
    "zz = pd.DataFrame(Yprob)\n",
    "zz.head()"
   ]
  },
  {
   "cell_type": "code",
   "execution_count": 129,
   "id": "9aad23bf",
   "metadata": {},
   "outputs": [
    {
     "data": {
      "text/html": [
       "<div>\n",
       "<style scoped>\n",
       "    .dataframe tbody tr th:only-of-type {\n",
       "        vertical-align: middle;\n",
       "    }\n",
       "\n",
       "    .dataframe tbody tr th {\n",
       "        vertical-align: top;\n",
       "    }\n",
       "\n",
       "    .dataframe thead th {\n",
       "        text-align: right;\n",
       "    }\n",
       "</style>\n",
       "<table border=\"1\" class=\"dataframe\">\n",
       "  <thead>\n",
       "    <tr style=\"text-align: right;\">\n",
       "      <th></th>\n",
       "      <th>0</th>\n",
       "      <th>1</th>\n",
       "    </tr>\n",
       "  </thead>\n",
       "  <tbody>\n",
       "    <tr>\n",
       "      <th>0</th>\n",
       "      <td>0.139774</td>\n",
       "      <td>0.860226</td>\n",
       "    </tr>\n",
       "    <tr>\n",
       "      <th>1</th>\n",
       "      <td>0.918929</td>\n",
       "      <td>0.081071</td>\n",
       "    </tr>\n",
       "    <tr>\n",
       "      <th>2</th>\n",
       "      <td>0.904943</td>\n",
       "      <td>0.095057</td>\n",
       "    </tr>\n",
       "    <tr>\n",
       "      <th>3</th>\n",
       "      <td>0.202941</td>\n",
       "      <td>0.797059</td>\n",
       "    </tr>\n",
       "    <tr>\n",
       "      <th>4</th>\n",
       "      <td>0.082200</td>\n",
       "      <td>0.917800</td>\n",
       "    </tr>\n",
       "  </tbody>\n",
       "</table>\n",
       "</div>"
      ],
      "text/plain": [
       "          0         1\n",
       "0  0.139774  0.860226\n",
       "1  0.918929  0.081071\n",
       "2  0.904943  0.095057\n",
       "3  0.202941  0.797059\n",
       "4  0.082200  0.917800"
      ]
     },
     "execution_count": 129,
     "metadata": {},
     "output_type": "execute_result"
    }
   ],
   "source": [
    "Y_pred1 = logreg.predict(X_test) # Make Predictions\n",
    "Yprob1 = logreg.predict_proba(X_test) #test output probabilities\n",
    "zz1 = pd.DataFrame(Yprob1)\n",
    "zz1.head()"
   ]
  },
  {
   "cell_type": "code",
   "execution_count": 130,
   "id": "ab08f180",
   "metadata": {},
   "outputs": [
    {
     "data": {
      "text/plain": [
       "array([-5.90461147])"
      ]
     },
     "execution_count": 130,
     "metadata": {},
     "output_type": "execute_result"
    }
   ],
   "source": [
    "logreg.get_params()\n",
    "logreg.coef_\n",
    "logreg.intercept_"
   ]
  },
  {
   "cell_type": "code",
   "execution_count": 131,
   "id": "34ae4935",
   "metadata": {},
   "outputs": [
    {
     "name": "stdout",
     "output_type": "stream",
     "text": [
      "Accuracy: 0.9345794392523364\n",
      "Precision: 0.8888888888888888\n",
      "Recall: 0.8571428571428571\n"
     ]
    }
   ],
   "source": [
    "print(\"Accuracy:\",metrics.accuracy_score(Y_train, Y_pred)) #Accuracy of the model on training data\n",
    "print(\"Precision:\",metrics.precision_score(Y_train, Y_pred)) #Precision of the model on training data\n",
    "print(\"Recall:\",metrics.recall_score(Y_train, Y_pred)) #Recall of the model on training data"
   ]
  },
  {
   "cell_type": "code",
   "execution_count": 132,
   "id": "e243b31e",
   "metadata": {},
   "outputs": [
    {
     "name": "stdout",
     "output_type": "stream",
     "text": [
      "Accuracy: 0.9444444444444444\n",
      "Precision: 0.9090909090909091\n",
      "Recall: 0.8333333333333334\n"
     ]
    }
   ],
   "source": [
    "print(\"Accuracy:\",metrics.accuracy_score(Y_test, Y_pred1)) #Accuracy of the model on testing data\n",
    "print(\"Precision:\",metrics.precision_score(Y_test, Y_pred1)) #Precision of the model on testing data\n",
    "print(\"Recall:\",metrics.recall_score(Y_test, Y_pred1)) #Recall of the model on testing data"
   ]
  },
  {
   "cell_type": "code",
   "execution_count": 133,
   "id": "a254ed14",
   "metadata": {},
   "outputs": [
    {
     "data": {
      "image/png": "[encoded data removed]",
      "text/plain": [
       "<Figure size 640x480 with 2 Axes>"
      ]
     },
     "metadata": {},
     "output_type": "display_data"
    }
   ],
   "source": [
    "cnf_matrix = metrics.confusion_matrix(Y_train, Y_pred) # Calculate confusion matrix for the model\n",
    "cnf_matrix # y_train is going be rows (obs), y_pred (predicted) are cols\n",
    "disp = metrics.ConfusionMatrixDisplay(confusion_matrix=cnf_matrix)\n",
    "disp.plot() #create visualization of confusion matrix\n",
    "plt.title('Confusion matrix for training data')\n",
    "plt.show() # Display the visualisation"
   ]
  },
  {
   "cell_type": "code",
   "execution_count": 134,
   "id": "d8fcd35d",
   "metadata": {},
   "outputs": [
    {
     "data": {
      "image/png": "[encoded data removed]",
      "text/plain": [
       "<Figure size 640x480 with 2 Axes>"
      ]
     },
     "metadata": {},
     "output_type": "display_data"
    }
   ],
   "source": [
    "cnf_matrix1 = metrics.confusion_matrix(Y_test, Y_pred1) # Calculate confusion matrix for the model\n",
    "cnf_matrix1 # y_test is going be rows (obs), y_pred1 (predicted) are cols\n",
    "disp1 = metrics.ConfusionMatrixDisplay(confusion_matrix=cnf_matrix1)\n",
    "disp1.plot() #create visualization of confusion matrix\n",
    "plt.title('Confusion matrix for testing data')\n",
    "plt.show() # Display the visualisation"
   ]
  },
  {
   "cell_type": "code",
   "execution_count": 135,
   "id": "3a64a212",
   "metadata": {},
   "outputs": [
    {
     "data": {
      "image/png": "[encoded data removed]",
      "text/plain": [
       "<Figure size 640x480 with 1 Axes>"
      ]
     },
     "metadata": {},
     "output_type": "display_data"
    }
   ],
   "source": [
    "Y_pred_proba = logreg.predict_proba(X_train)[::,1]\n",
    "fpr, tpr, _ = metrics.roc_curve(Y_train,  Y_pred_proba)\n",
    "auc = metrics.roc_auc_score(Y_train, Y_pred_proba)\n",
    "plt.plot(fpr,tpr,label=\"data 1, auc=\"+str(round(auc,4)))\n",
    "plt.legend(loc=4)\n",
    "plt.title('ROC curve for training data')\n",
    "plt.xlabel('1-Specificity')\n",
    "plt.ylabel('Sensitivity')\n",
    "plt.grid()\n",
    "plt.show()"
   ]
  },
  {
   "cell_type": "code",
   "execution_count": 136,
   "id": "8e3a487f",
   "metadata": {},
   "outputs": [
    {
     "data": {
      "image/png": "[encoded data removed]",
      "text/plain": [
       "<Figure size 640x480 with 1 Axes>"
      ]
     },
     "metadata": {},
     "output_type": "display_data"
    }
   ],
   "source": [
    "Y_pred_proba1 = logreg.predict_proba(X_test)[::,1]\n",
    "fpr, tpr, _ = metrics.roc_curve(Y_test,  Y_pred_proba1)\n",
    "auc = metrics.roc_auc_score(Y_test, Y_pred_proba1)\n",
    "plt.plot(fpr,tpr,label=\"data 1, auc=\"+str(round(auc,4)))\n",
    "plt.legend(loc=4)\n",
    "plt.title('ROC curve for training data')\n",
    "plt.xlabel('1-Specificity')\n",
    "plt.ylabel('Sensitivity')\n",
    "plt.grid()\n",
    "plt.show()"
   ]
  },
  {
   "cell_type": "code",
   "execution_count": 137,
   "id": "60798e93",
   "metadata": {},
   "outputs": [],
   "source": [
    "#predict the y variable for all x variables\n",
    "Y_pred_LR = logreg.predict(X) # predict whole dataset"
   ]
  },
  {
   "cell_type": "code",
   "execution_count": 138,
   "id": "0f464f2b",
   "metadata": {},
   "outputs": [],
   "source": [
    "df_pred = pd.DataFrame(Y_pred_LR, columns = ['LR_pred_Y'])\n",
    "df_pred1 = pd.concat([a, df_pred], axis=1)"
   ]
  },
  {
   "cell_type": "code",
   "execution_count": 139,
   "id": "99789908",
   "metadata": {},
   "outputs": [],
   "source": [
    "df_pred1.to_csv('Y_pred_LR1.csv')"
   ]
  },
  {
   "cell_type": "code",
   "execution_count": null,
   "id": "b52df880",
   "metadata": {},
   "outputs": [],
   "source": []
  }
 ],
 "metadata": {
  "kernelspec": {
   "display_name": "Python 3 (ipykernel)",
   "language": "python",
   "name": "python3"
  },
  "language_info": {
   "codemirror_mode": {
    "name": "ipython",
    "version": 3
   },
   "file_extension": ".py",
   "mimetype": "text/x-python",
   "name": "python",
   "nbconvert_exporter": "python",
   "pygments_lexer": "ipython3",
   "version": "3.9.13"
  }
 },
 "nbformat": 4,
 "nbformat_minor": 5
}
